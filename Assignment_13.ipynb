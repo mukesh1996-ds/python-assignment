{
 "cells": [
  {
   "cell_type": "markdown",
   "id": "d8770524",
   "metadata": {},
   "source": [
    "### Q1. Can you create a programme or function that employs both positive and negative indexing? Is there any repercussion if you do so?"
   ]
  },
  {
   "cell_type": "code",
   "execution_count": 49,
   "id": "cddd8313",
   "metadata": {},
   "outputs": [],
   "source": [
    "def negative_indexing():\n",
    "    test_list = [5, 7, 8, 2, 3, 5, 1]\n",
    "     # printing original list\n",
    "    print(\"The original list is : \" + str(test_list))\n",
    "\n",
    "    # initializing Element\n",
    "    K = 3\n",
    "\n",
    "    # -1 operator to reverse list, index() used to get index\n",
    "    res = ~test_list[::-1].index(K)\n",
    "\n",
    "    # printing result\n",
    "    print(\"The required Negative index : \" + str(res))\n",
    "    "
   ]
  },
  {
   "cell_type": "code",
   "execution_count": 50,
   "id": "c6312c55",
   "metadata": {},
   "outputs": [
    {
     "name": "stdout",
     "output_type": "stream",
     "text": [
      "The original list is : [5, 7, 8, 2, 3, 5, 1]\n",
      "The required Negative index : -3\n"
     ]
    }
   ],
   "source": [
    "negative_indexing()"
   ]
  },
  {
   "cell_type": "code",
   "execution_count": 51,
   "id": "c364672d",
   "metadata": {},
   "outputs": [],
   "source": [
    "def negative_indexing():\n",
    "    # initializing list\n",
    "        test_list = [5, 7, 8, 2, 3, 5, 1,5,9,7,0]\n",
    " \n",
    "        # printing original list\n",
    "        print(\"The original list is : \" + str(test_list))\n",
    "\n",
    "        # initializing Element\n",
    "        K = 3\n",
    "\n",
    "        # getting length using len() and subtracting index from it\n",
    "        res = len(test_list) - test_list.index(K)\n",
    "\n",
    "        # printing result\n",
    "        print(\"The required Negative index : -\" + str(res))"
   ]
  },
  {
   "cell_type": "code",
   "execution_count": 48,
   "id": "060c7b08",
   "metadata": {},
   "outputs": [
    {
     "name": "stdout",
     "output_type": "stream",
     "text": [
      "The original list is : [5, 7, 8, 2, 3, 5, 1, 5, 9, 7, 0]\n",
      "The required Negative index : -7\n"
     ]
    }
   ],
   "source": [
    "negative_indexing()"
   ]
  },
  {
   "cell_type": "code",
   "execution_count": 5,
   "id": "ad6b875b",
   "metadata": {},
   "outputs": [],
   "source": [
    "#OR\n",
    "\n",
    "def slicing(val):\n",
    "    print(val[0:])\n",
    "    print(val[-6:])\n"
   ]
  },
  {
   "cell_type": "code",
   "execution_count": 6,
   "id": "4991d980",
   "metadata": {},
   "outputs": [
    {
     "name": "stdout",
     "output_type": "stream",
     "text": [
      "ineuron\n",
      "neuron\n"
     ]
    }
   ],
   "source": [
    "slicing('ineuron')"
   ]
  },
  {
   "cell_type": "markdown",
   "id": "c1c00c01",
   "metadata": {},
   "source": [
    "### Q2.What is the most effective way of starting with 1,000 elements in a Python list? Assume that all elements should be set to the same value."
   ]
  },
  {
   "cell_type": "code",
   "execution_count": 61,
   "id": "a19e559d",
   "metadata": {},
   "outputs": [
    {
     "name": "stdout",
     "output_type": "stream",
     "text": [
      "range(0, 1000)\n"
     ]
    }
   ],
   "source": [
    "i = range(1000)\n",
    "print(i)"
   ]
  },
  {
   "cell_type": "code",
   "execution_count": null,
   "id": "8062d752",
   "metadata": {},
   "outputs": [],
   "source": [
    "To get it to paginate the output, you'll have to do some extra work:"
   ]
  },
  {
   "cell_type": "code",
   "execution_count": 62,
   "id": "6fa232b2",
   "metadata": {},
   "outputs": [
    {
     "name": "stdout",
     "output_type": "stream",
     "text": [
      "range(0, 1000)"
     ]
    }
   ],
   "source": [
    "import pydoc\n",
    "i = range(1000)\n",
    "pydoc.pager(str(i))"
   ]
  },
  {
   "cell_type": "markdown",
   "id": "5a7bdf54",
   "metadata": {},
   "source": [
    "This will emulate your default pager so you can go forward and backward. Hit q to get back to the REPL prompt."
   ]
  },
  {
   "cell_type": "code",
   "execution_count": 63,
   "id": "5f1a1ae9",
   "metadata": {
    "scrolled": true
   },
   "outputs": [
    {
     "data": {
      "text/plain": [
       "range(100, 200)"
      ]
     },
     "execution_count": 63,
     "metadata": {},
     "output_type": "execute_result"
    }
   ],
   "source": [
    "#To print a subset of a list, use slicing:\n",
    "i[100:200]"
   ]
  },
  {
   "cell_type": "code",
   "execution_count": 66,
   "id": "5b898305",
   "metadata": {},
   "outputs": [
    {
     "name": "stdout",
     "output_type": "stream",
     "text": [
      "9223372036854775807\n"
     ]
    }
   ],
   "source": []
  },
  {
   "cell_type": "code",
   "execution_count": null,
   "id": "deb80262",
   "metadata": {},
   "outputs": [],
   "source": []
  },
  {
   "cell_type": "markdown",
   "id": "558f5508",
   "metadata": {},
   "source": [
    "### Q3. How do you slice a list to get any other part while missing the rest? (For example, suppose you want to make a new list with the elements first, third, fifth, seventh, and so on.)"
   ]
  },
  {
   "cell_type": "code",
   "execution_count": 1,
   "id": "8d14fe70",
   "metadata": {},
   "outputs": [
    {
     "data": {
      "text/plain": [
       "['first', 'third', 'fifth']"
      ]
     },
     "execution_count": 1,
     "metadata": {},
     "output_type": "execute_result"
    }
   ],
   "source": [
    "ls=['first', 'third', 'fifth', 'seventh']\n",
    "ls[0:3]"
   ]
  },
  {
   "cell_type": "code",
   "execution_count": null,
   "id": "30363145",
   "metadata": {},
   "outputs": [],
   "source": []
  },
  {
   "cell_type": "code",
   "execution_count": null,
   "id": "0879165d",
   "metadata": {},
   "outputs": [],
   "source": []
  },
  {
   "cell_type": "markdown",
   "id": "c9ee0a15",
   "metadata": {},
   "source": [
    "### Q4. Explain the distinctions between indexing and slicing."
   ]
  },
  {
   "cell_type": "markdown",
   "id": "16873e01",
   "metadata": {},
   "source": [
    "“Indexing” means referring to an element of an iterable by its position within the iterable. \n",
    "\n",
    "“Slicing” means getting a subset of elements from an iterable based on their indices.\n",
    "\n",
    "\n",
    "Indexing: Indexing is used to obtain individual elements. Slicing: Slicing is used to obtain a sequence of elements."
   ]
  },
  {
   "cell_type": "code",
   "execution_count": null,
   "id": "996fac7e",
   "metadata": {},
   "outputs": [],
   "source": []
  },
  {
   "cell_type": "markdown",
   "id": "5ced794e",
   "metadata": {},
   "source": [
    "### Q5. What happens if one of the slicing expression's indexes is out of range?"
   ]
  },
  {
   "cell_type": "markdown",
   "id": "f2e2f743",
   "metadata": {},
   "source": [
    "The slicing operation doesn't raise an error if both your start and stop indices are larger than the sequence length. This is in contrast to simple indexing—if you index an element that is out of bounds, Python will throw an index out of bounds error. However, with slicing it simply returns an empty sequence.\n",
    "\n",
    "Indexing returns a single item, but slicing returns a subsequence of items. So when you try to index a nonexistent value, there's nothing to return. But when you slice a sequence outside of bounds, you can still return an empty sequence.09"
   ]
  },
  {
   "cell_type": "code",
   "execution_count": null,
   "id": "4ce8abd8",
   "metadata": {},
   "outputs": [],
   "source": []
  },
  {
   "cell_type": "markdown",
   "id": "a8bcf666",
   "metadata": {},
   "source": [
    "### Q6. If you pass a list to a function, and if you want the function to be able to change the values of the list—so that the list is different after the function returns—what action should you avoid?"
   ]
  },
  {
   "cell_type": "code",
   "execution_count": 3,
   "id": "e776de45",
   "metadata": {},
   "outputs": [
    {
     "name": "stdout",
     "output_type": "stream",
     "text": [
      "2783767020544\n",
      "2783767020544\n"
     ]
    },
    {
     "data": {
      "text/plain": [
       "[22, 2, 3, 4]"
      ]
     },
     "execution_count": 3,
     "metadata": {},
     "output_type": "execute_result"
    }
   ],
   "source": [
    "ls=[1,2,3,4]\n",
    "print(id(ls))\n",
    "ls[0]=22\n",
    "print(id(ls))\n",
    "ls"
   ]
  },
  {
   "cell_type": "markdown",
   "id": "22e30860",
   "metadata": {},
   "source": [
    "No it wil not be a different because it is reffering to the same object beforee and after changing values it returns same. "
   ]
  },
  {
   "cell_type": "code",
   "execution_count": null,
   "id": "d3de6824",
   "metadata": {},
   "outputs": [],
   "source": []
  },
  {
   "cell_type": "markdown",
   "id": "f1c8dc09",
   "metadata": {},
   "source": [
    "### Q7. What is the concept of an unbalanced matrix?"
   ]
  },
  {
   "cell_type": "markdown",
   "id": "0bb20d62",
   "metadata": {},
   "source": [
    "Given a matrix mat[][] of dimensions NxM, the task is to check whether the given matrix is balanced or not. Print “Balanced” if it is a balanced matrix else print “Unbalanced”. "
   ]
  },
  {
   "cell_type": "markdown",
   "id": "c54dc412",
   "metadata": {},
   "source": [
    "Input: N = 3, M = 3 \n",
    "mat[][] = {{1, 2, 3}, \n",
    "{4, 5, 6}, \n",
    "{7, 8, 9}} \n",
    "Output: Unbalanced \n",
    "Explanation: Each cell of the given grid is not stable, so the overall grid is unbalanced.\n",
    "Input: N = 3, M = 3 \n",
    "mat[][] = {{1, 2, 1}, \n",
    "{2, 3, 2}, \n",
    "{1, 2, 1}} \n",
    "Output: Balanced \n",
    "Explanation: Each cell of the given grid is stable, so the overall grid is Balanced. \n"
   ]
  },
  {
   "cell_type": "markdown",
   "id": "b8035828",
   "metadata": {},
   "source": [
    "Approach:\n",
    "\n",
    "1.Traverse the given matrix mat[][].\n",
    "\n",
    "2.For each cell of the matrix check if all the adjacent cells i.e., mat[i+1][j], mat[i][j+1], mat[i-1][j], mat[i][j-1] are strictly smaller than the current cell.\n",
    "\n",
    "3.For the corner cells of the matrix, there are only two adjacent cells i.e., mat[i+1][j] and mat[i][j+1] check if all these adjacent cells are strictly smaller than the corner cell.\n",
    "\n",
    "4.For border cell of the matrix, there are 3 adjacent cells i.e., mat[i-1][j], mat[i+1][j], and mat[i][j+1] check if all these adjacent cells are strictly smaller than the border cell.\n",
    "\n",
    "5.If all the above conditions are true for all the cells of the matrix then print “Balanced” else print “Unbalanced”."
   ]
  },
  {
   "cell_type": "code",
   "execution_count": null,
   "id": "93c76b2b",
   "metadata": {},
   "outputs": [],
   "source": []
  },
  {
   "cell_type": "code",
   "execution_count": null,
   "id": "12664587",
   "metadata": {},
   "outputs": [],
   "source": []
  },
  {
   "cell_type": "markdown",
   "id": "c38fe2fc",
   "metadata": {},
   "source": [
    "### Q8. Why is it necessary to use either list comprehension or a loop to create arbitrarily large matrices?"
   ]
  },
  {
   "cell_type": "markdown",
   "id": "afa8e857",
   "metadata": {},
   "source": [
    "bcoz with the help of list comphrensions or loop we can createa any shape r size of matrix.Lot many iterations we can used there to create any matrix."
   ]
  }
 ],
 "metadata": {
  "kernelspec": {
   "display_name": "Python 3",
   "language": "python",
   "name": "python3"
  },
  "language_info": {
   "codemirror_mode": {
    "name": "ipython",
    "version": 3
   },
   "file_extension": ".py",
   "mimetype": "text/x-python",
   "name": "python",
   "nbconvert_exporter": "python",
   "pygments_lexer": "ipython3",
   "version": "3.8.8"
  }
 },
 "nbformat": 4,
 "nbformat_minor": 5
}
