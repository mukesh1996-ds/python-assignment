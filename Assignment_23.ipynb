{
 "cells": [
  {
   "cell_type": "markdown",
   "id": "d8770524",
   "metadata": {},
   "source": [
    "### Q1. If you have any, what are your choices for increasing the comparison between different figures on the same graph?"
   ]
  },
  {
   "cell_type": "markdown",
   "id": "bf9cbf8a",
   "metadata": {},
   "source": [
    "A column chart is used to show a comparison among different items, or it can show a comparison of items over time.\n",
    "\n",
    "The column chart is probably the most used chart type. This chart is best used to compare different values when specific values are important, and it is expected that users will look up and compare individual values between each column.\n",
    "\n",
    "we can uses the subplot function for plotting many figures in the same frame so it is easy to understand their differeces."
   ]
  },
  {
   "cell_type": "code",
   "execution_count": null,
   "id": "4991d980",
   "metadata": {},
   "outputs": [],
   "source": []
  },
  {
   "cell_type": "code",
   "execution_count": null,
   "id": "982244ee",
   "metadata": {},
   "outputs": [],
   "source": []
  },
  {
   "cell_type": "markdown",
   "id": "c1c00c01",
   "metadata": {},
   "source": [
    "### Q2. Can you explain the benefit of compound interest over a higher rate of interest that does not compound after reading this chapter?"
   ]
  },
  {
   "cell_type": "markdown",
   "id": "af45a788",
   "metadata": {},
   "source": [
    "In compound intrest we got the intrest on intrest for particular time period so in higher rate of intrest we didn't get the that amount compared to compound intrest bcoz higher  intrest is only return tose w are getting after investing for a particular time/"
   ]
  },
  {
   "cell_type": "code",
   "execution_count": null,
   "id": "711a907a",
   "metadata": {},
   "outputs": [],
   "source": []
  },
  {
   "cell_type": "code",
   "execution_count": null,
   "id": "7fe94640",
   "metadata": {},
   "outputs": [],
   "source": []
  },
  {
   "cell_type": "markdown",
   "id": "558f5508",
   "metadata": {},
   "source": [
    "### Q3. What is a histogram, exactly? Name a numpy method for creating such a graph."
   ]
  },
  {
   "cell_type": "markdown",
   "id": "5fe835ca",
   "metadata": {},
   "source": [
    " A histogram is a graphical representation that organizes a group of data points into user-specified ranges. Similar in appearance to a bar graph, the histogram condenses a data series into an easily interpreted visual by taking many data points and grouping them into logical ranges or bins."
   ]
  },
  {
   "cell_type": "code",
   "execution_count": 4,
   "id": "d630986b",
   "metadata": {},
   "outputs": [
    {
     "data": {
      "image/png": "[encoded data removed]",
      "text/plain": [
       "<Figure size 720x504 with 1 Axes>"
      ]
     },
     "metadata": {
      "needs_background": "light"
     },
     "output_type": "display_data"
    }
   ],
   "source": [
    "import matplotlib.pyplot as plt\n",
    "import numpy as np\n",
    "from matplotlib import colors\n",
    "from matplotlib.ticker import PercentFormatter\n",
    " \n",
    "# Creating dataset\n",
    "np.random.seed(23685752)\n",
    "N_points = 10000\n",
    "n_bins = 20\n",
    " \n",
    "# Creating distribution\n",
    "x = np.random.randn(N_points)\n",
    "y = .8 ** x + np.random.randn(10000) + 25\n",
    " \n",
    "# Creating histogram\n",
    "fig, axs = plt.subplots(1, 1,\n",
    "                        figsize =(10, 7),\n",
    "                        tight_layout = True)\n",
    " \n",
    "axs.hist(x, bins = n_bins)\n",
    " # Show plot\n",
    "plt.show()"
   ]
  },
  {
   "cell_type": "markdown",
   "id": "35fffc5f",
   "metadata": {},
   "source": [
    "For plotting graphs in Python, we will use the Matplotlib library. Matplotlib is used along with NumPy data to plot any type of graph. From matplotlib we use the specific function i.e. pyplot(), which is used to plot two-dimensional data.\n",
    "\n",
    "Different functions used are explained below:\n",
    "\n",
    "np.arange(start, end): This function returns equally spaced values from the interval [start, end).\n",
    "\n",
    "                                                                                      plt.title(): It is used to give a title to the graph. Title is passed as the parameter to this function.\n",
    "plt.xlabel(): It sets the label name at X-axis. Name of X-axis is passed as argument t\n",
    "                                                                                      o this function.\n",
    "plt.ylabel(): It sets the label name at Y-axis. Name of Y-axis is passed as argument t\n",
    "                                                                                      o this function.\n",
    "plt.plot(): It plots the values of parameters passed to it together.\n",
    "                                                                                      \n",
    "plt.show(): It shows all the graph to the console."
   ]
  },
  {
   "cell_type": "code",
   "execution_count": null,
   "id": "3033f371",
   "metadata": {},
   "outputs": [],
   "source": []
  },
  {
   "cell_type": "markdown",
   "id": "c9ee0a15",
   "metadata": {},
   "source": [
    "### Q4. If necessary, how do you change the aspect ratios between the X and Y axes?"
   ]
  },
  {
   "cell_type": "markdown",
   "id": "b7ef33c2",
   "metadata": {},
   "source": [
    "set_aspect() to Make a Square Plot With Equal Axes\n",
    "\n",
    "set_aspect() function. If we use \"equal\" as an aspect ratio in the function, we get a plot with the same scaling from data points to plot units for X-axis and Y-axis. It sets both X-axis and Y-axis to have the same range."
   ]
  },
  {
   "cell_type": "code",
   "execution_count": 5,
   "id": "c1d5c2af",
   "metadata": {},
   "outputs": [
    {
     "data": {
      "image/png": "[encoded data removed]",
      "text/plain": [
       "<Figure size 432x288 with 1 Axes>"
      ]
     },
     "metadata": {
      "needs_background": "light"
     },
     "output_type": "display_data"
    }
   ],
   "source": [
    "import numpy as np\n",
    "import matplotlib.pyplot as plt\n",
    "\n",
    "x = np.linspace(-3,3,100)\n",
    "y = np.sin(x)\n",
    "\n",
    "fig = plt.figure()\n",
    "ax = fig.add_subplot(111)\n",
    "\n",
    "plt.plot(x, y)\n",
    "plt.xlim(-3,3)\n",
    "plt.ylim(-3,3)\n",
    "\n",
    "ax.set_aspect('equal', adjustable='box')\n",
    "\n",
    "plt.xlabel(\"x\")\n",
    "plt.ylabel(\"sinx\")\n",
    "\n",
    "plt.show()\n"
   ]
  },
  {
   "cell_type": "code",
   "execution_count": 6,
   "id": "f1554c01",
   "metadata": {},
   "outputs": [
    {
     "data": {
      "text/plain": [
       "(-3.0, 3.0)"
      ]
     },
     "execution_count": 6,
     "metadata": {},
     "output_type": "execute_result"
    },
    {
     "data": {
      "image/png": "[encoded data removed]",
      "text/plain": [
       "<Figure size 432x288 with 1 Axes>"
      ]
     },
     "metadata": {
      "needs_background": "light"
     },
     "output_type": "display_data"
    }
   ],
   "source": [
    "plt.xlim(-3,3)\n",
    "plt.ylim(-3,3)"
   ]
  },
  {
   "cell_type": "code",
   "execution_count": 7,
   "id": "bb046c8b",
   "metadata": {},
   "outputs": [],
   "source": [
    "ax.set_aspect('equal')"
   ]
  },
  {
   "cell_type": "markdown",
   "id": "36692de6",
   "metadata": {},
   "source": [
    "x.set_aspect() is functin to set the aspects of images and the graphs."
   ]
  },
  {
   "cell_type": "code",
   "execution_count": null,
   "id": "996fac7e",
   "metadata": {},
   "outputs": [],
   "source": []
  },
  {
   "cell_type": "code",
   "execution_count": null,
   "id": "4fa3e6cd",
   "metadata": {},
   "outputs": [],
   "source": []
  },
  {
   "cell_type": "markdown",
   "id": "5ced794e",
   "metadata": {},
   "source": [
    "### Q5. Compare and contrast the three types of array multiplication between two numpy arrays: dot product, outer product, and regular multiplication of two numpy arrays."
   ]
  },
  {
   "attachments": {
    "image.png": {
     "image/png": "[encoded data removed]"
    }
   },
   "cell_type": "markdown",
   "id": "b729babd",
   "metadata": {},
   "source": [
    "* Working of ‘*’ operator\n",
    "\n",
    "‘*’ operation caries out element-wise multiplication on array elements. The element at a[i][j] is multiplied with b[i][j] .This happens for all elements of array.\n",
    "\n",
    "Example: \n",
    "\n",
    "Let the two 2D array are v1 and v2:-\n",
    "v1 = [[1, 2], [3, 4]]\n",
    "v2 = [[1, 2], [3, 4]]\n",
    "\n",
    "Output:\n",
    "[[1, 4]\n",
    "[9, 16]]\n",
    "From below picture it would be clear.\n",
    "\n",
    "![image.png](attachment:image.png)"
   ]
  },
  {
   "cell_type": "markdown",
   "id": "a6f5e1f4",
   "metadata": {},
   "source": [
    "* Working of numpy.dot()\n",
    "\n",
    "It carries of normal matrix multiplication . Where the condition of number of columns of first array should be equal to number of rows of second array is checked than only numpy.dot() function take place else it shows an error. \n",
    "\n",
    "Example: \n",
    "Let the two 2D array are v1 and v2:-\n",
    "v1=[[1, 2], [3, 4]]\n",
    "v2=[[1, 2], [3, 4]]\n",
    "Than numpy.dot(v1, v2)  gives output of :-\n",
    "[[ 7 10]\n",
    " [15 22]]"
   ]
  },
  {
   "cell_type": "code",
   "execution_count": 12,
   "id": "11ed6bd5",
   "metadata": {},
   "outputs": [
    {
     "name": "stdout",
     "output_type": "stream",
     "text": [
      "vector multiplication\n",
      "[[3 6]\n",
      " [3 6]]\n",
      "\n",
      "Elementwise multiplication of two vector\n",
      "[[1 4]\n",
      " [1 4]]\n"
     ]
    }
   ],
   "source": [
    "import numpy as np\n",
    " \n",
    " \n",
    "# vector v1 of dimension (2, 2)\n",
    "v1 = np.array([[1, 2], [1, 2]])\n",
    " \n",
    "# vector v2 of dimension (2, 2)\n",
    "v2 = np.array([[1, 2], [1, 2]])\n",
    " \n",
    "print(\"vector multiplication\")\n",
    "print(np.dot(v1, v2))\n",
    " \n",
    "print(\"\\nElementwise multiplication of two vector\")\n",
    "print(v1 * v2)"
   ]
  },
  {
   "cell_type": "markdown",
   "id": "b1ed1beb",
   "metadata": {},
   "source": [
    "* Working of numpy.outer()\n",
    "\n",
    "Numpy outer() is used to calculate the outer product of two given vectors. Now the question is what is the outer product? Suppose we have two vectors A [ a,a1,a2,..an] and B [ b0,b1,b2,…bn], the outer product of these two vectors will be:\n",
    "\n",
    "[ [ a0*b0 a0*b1 a0*b2 … a0*bn]\n",
    "\n",
    "  [ a1*b0 a0*b1 a1*b2 … a1*bn]\n",
    "  \n",
    "To calculate the outer product of two vectors in Python, use the numpy outer() function. Numpy is a mathematical library used to calculate vector algebra."
   ]
  },
  {
   "cell_type": "markdown",
   "id": "1d2da39f",
   "metadata": {},
   "source": [
    "Syntax : numpy.outer(a, b, out = None)\n",
    "\n",
    "Parameters :\n",
    "\n",
    "a : [array_like] First input vector. Input is flattened if not already 1-dimensional.\n",
    "\n",
    "b : [array_like] Second input vector. Input is flattened if not already 1-dimensional.\n",
    "\n",
    "out : [ndarray, optional] A location where the result is stored.\n",
    "\n",
    "Return : [ndarray] Returns the outer product of two vectors. out[i, j] = a[i] * b[j]"
   ]
  },
  {
   "cell_type": "code",
   "execution_count": 13,
   "id": "4c7388f3",
   "metadata": {},
   "outputs": [
    {
     "name": "stdout",
     "output_type": "stream",
     "text": [
      "Original 1-D arrays:\n",
      "[6 2]\n",
      "[2 5]\n",
      "Outer Product of the two array is:\n",
      "[[12 30]\n",
      " [ 4 10]]\n"
     ]
    }
   ],
   "source": [
    "# Importing library\n",
    "import numpy as np\n",
    "  \n",
    "# Creating two 1-D arrays\n",
    "array1 = np.array([6,2])\n",
    "array2 = np.array([2,5])\n",
    "print(\"Original 1-D arrays:\")\n",
    "print(array1)\n",
    "print(array2)\n",
    "  \n",
    "# Output\n",
    "print(\"Outer Product of the two array is:\")\n",
    "result = np.outer(array1, array2)\n",
    "print(result)"
   ]
  },
  {
   "cell_type": "code",
   "execution_count": null,
   "id": "924bcb90",
   "metadata": {},
   "outputs": [],
   "source": []
  },
  {
   "cell_type": "markdown",
   "id": "a8bcf666",
   "metadata": {},
   "source": [
    "### Q6. Before you buy a home, which numpy function will you use to measure your monthly mortgage payment?"
   ]
  },
  {
   "cell_type": "markdown",
   "id": "38b2fe63",
   "metadata": {},
   "source": [
    "In order to make sure you can afford the home, you will have to calculate the monthly mortgage payment you will have to make on a loan that size.\n",
    "\n",
    "Now, since you will be paying a monthly mortgage, you will have to convert each of the parameters into their monthly equivalents. Be careful when adjusting the interest rate, which is compounding!\n",
    "\n",
    "In order to calculate the monthly mortgage payment, you will use the numpy function .pmt(rate, nper, pv) where:\n",
    "\n",
    "rate = The periodic (monthly) interest rate\n",
    "nper = The number of payment periods (months) in the lifespan of the mortgage loan\n",
    "pv = The total value of the mortgage loan\n",
    "You have been given a 30-year mortgage loan quote for your desired amount at 3.75%. The value of the mortgage loan is available as mortgage_loan.\n",
    "\n",
    "The annual mortgage rate is available as mortgage_rate"
   ]
  },
  {
   "cell_type": "code",
   "execution_count": 14,
   "id": "3f79fec4",
   "metadata": {},
   "outputs": [
    {
     "name": "stderr",
     "output_type": "stream",
     "text": [
      "<ipython-input-14-1985d35e05cd>:2: DeprecationWarning: In accordance with NEP 32, the function pmt was removed from NumPy version 1.20.  A replacement for this function is available in the numpy_financial library: https://pypi.org/project/numpy-financial\n",
      "  np.pmt(0.085/12, 12*12, 100000)\n"
     ]
    },
    {
     "ename": "RuntimeError",
     "evalue": "In accordance with NEP 32, the function pmt was removed from NumPy version 1.20.  A replacement for this function is available in the numpy_financial library: https://pypi.org/project/numpy-financial",
     "output_type": "error",
     "traceback": [
      "\u001b[1;31m---------------------------------------------------------------------------\u001b[0m",
      "\u001b[1;31mRuntimeError\u001b[0m                              Traceback (most recent call last)",
      "\u001b[1;32m<ipython-input-14-1985d35e05cd>\u001b[0m in \u001b[0;36m<module>\u001b[1;34m\u001b[0m\n\u001b[0;32m      1\u001b[0m \u001b[1;32mimport\u001b[0m \u001b[0mnumpy\u001b[0m \u001b[1;32mas\u001b[0m \u001b[0mnp\u001b[0m\u001b[1;33m\u001b[0m\u001b[1;33m\u001b[0m\u001b[0m\n\u001b[1;32m----> 2\u001b[1;33m \u001b[0mnp\u001b[0m\u001b[1;33m.\u001b[0m\u001b[0mpmt\u001b[0m\u001b[1;33m(\u001b[0m\u001b[1;36m0.085\u001b[0m\u001b[1;33m/\u001b[0m\u001b[1;36m12\u001b[0m\u001b[1;33m,\u001b[0m \u001b[1;36m12\u001b[0m\u001b[1;33m*\u001b[0m\u001b[1;36m12\u001b[0m\u001b[1;33m,\u001b[0m \u001b[1;36m100000\u001b[0m\u001b[1;33m)\u001b[0m\u001b[1;33m\u001b[0m\u001b[1;33m\u001b[0m\u001b[0m\n\u001b[0m",
      "\u001b[1;32m~\\anaconda3\\lib\\site-packages\\numpy\\__init__.py\u001b[0m in \u001b[0;36m_expired\u001b[1;34m(*args, **kwds)\u001b[0m\n\u001b[0;32m    275\u001b[0m \u001b[1;33m\u001b[0m\u001b[0m\n\u001b[0;32m    276\u001b[0m                 \u001b[1;32mdef\u001b[0m \u001b[0m_expired\u001b[0m\u001b[1;33m(\u001b[0m\u001b[1;33m*\u001b[0m\u001b[0margs\u001b[0m\u001b[1;33m,\u001b[0m \u001b[1;33m**\u001b[0m\u001b[0mkwds\u001b[0m\u001b[1;33m)\u001b[0m\u001b[1;33m:\u001b[0m\u001b[1;33m\u001b[0m\u001b[1;33m\u001b[0m\u001b[0m\n\u001b[1;32m--> 277\u001b[1;33m                     \u001b[1;32mraise\u001b[0m \u001b[0mRuntimeError\u001b[0m\u001b[1;33m(\u001b[0m\u001b[0mmsg\u001b[0m\u001b[1;33m)\u001b[0m\u001b[1;33m\u001b[0m\u001b[1;33m\u001b[0m\u001b[0m\n\u001b[0m\u001b[0;32m    278\u001b[0m \u001b[1;33m\u001b[0m\u001b[0m\n\u001b[0;32m    279\u001b[0m                 \u001b[1;32mreturn\u001b[0m \u001b[0m_expired\u001b[0m\u001b[1;33m\u001b[0m\u001b[1;33m\u001b[0m\u001b[0m\n",
      "\u001b[1;31mRuntimeError\u001b[0m: In accordance with NEP 32, the function pmt was removed from NumPy version 1.20.  A replacement for this function is available in the numpy_financial library: https://pypi.org/project/numpy-financial"
     ]
    }
   ],
   "source": [
    "import numpy as np\n",
    "np.pmt(0.085/12, 12*12, 100000)"
   ]
  },
  {
   "cell_type": "code",
   "execution_count": 1,
   "id": "cd7b0034",
   "metadata": {},
   "outputs": [
    {
     "name": "stdout",
     "output_type": "stream",
     "text": [
      "Note: you may need to restart the kernel to use updated packages.\n"
     ]
    },
    {
     "name": "stderr",
     "output_type": "stream",
     "text": [
      "'C:\\Users\\Neelakanta' is not recognized as an internal or external command,\n",
      "operable program or batch file.\n"
     ]
    }
   ],
   "source": [
    "pip install numpy-financial\n",
    "\n",
    "import numpy_financial as npf\n",
    "npf.irr([-250000, 100000, 150000, 200000, 250000, 300000])\n",
    "0.5672303344358536"
   ]
  },
  {
   "cell_type": "code",
   "execution_count": null,
   "id": "24acaf9a",
   "metadata": {},
   "outputs": [],
   "source": []
  },
  {
   "cell_type": "code",
   "execution_count": null,
   "id": "57d3f306",
   "metadata": {},
   "outputs": [],
   "source": []
  },
  {
   "cell_type": "markdown",
   "id": "f1c8dc09",
   "metadata": {},
   "source": [
    "### Q7. Can string data be stored in numpy arrays? If so, list at least one restriction that applies to this data."
   ]
  },
  {
   "cell_type": "markdown",
   "id": "20c18127",
   "metadata": {},
   "source": [
    "Python does not have built-in support for Arrays. ... It is to be noted that Python does not have a character data type. A single character in itself is a string with length 1. Square brackets are used to access the elements of the String.\n",
    "\n",
    "The elements of a NumPy array, or simply an array, are usually numbers, but can also be boolians, strings, or other objects. When the elements are numbers, they must all be of the same type."
   ]
  },
  {
   "cell_type": "code",
   "execution_count": 2,
   "id": "f6536bab",
   "metadata": {},
   "outputs": [
    {
     "ename": "NameError",
     "evalue": "name 'np' is not defined",
     "output_type": "error",
     "traceback": [
      "\u001b[1;31m---------------------------------------------------------------------------\u001b[0m",
      "\u001b[1;31mNameError\u001b[0m                                 Traceback (most recent call last)",
      "\u001b[1;32m<ipython-input-2-f1912b1e7419>\u001b[0m in \u001b[0;36m<module>\u001b[1;34m\u001b[0m\n\u001b[1;32m----> 1\u001b[1;33m \u001b[0mnp\u001b[0m\u001b[1;33m.\u001b[0m\u001b[0marray\u001b[0m\u001b[1;33m(\u001b[0m\u001b[1;33m(\u001b[0m\u001b[1;34m'ravi'\u001b[0m\u001b[1;33m,\u001b[0m\u001b[1;34m'majathia'\u001b[0m\u001b[1;33m)\u001b[0m\u001b[1;33m)\u001b[0m\u001b[1;33m+\u001b[0m\u001b[0mnp\u001b[0m\u001b[1;33m.\u001b[0m\u001b[0marray\u001b[0m\u001b[1;33m(\u001b[0m\u001b[1;33m(\u001b[0m\u001b[1;34m'gujrat'\u001b[0m\u001b[1;33m)\u001b[0m\u001b[1;33m)\u001b[0m\u001b[1;33m\u001b[0m\u001b[1;33m\u001b[0m\u001b[0m\n\u001b[0m\u001b[0;32m      2\u001b[0m \u001b[1;31m# It gives us type error\u001b[0m\u001b[1;33m\u001b[0m\u001b[1;33m\u001b[0m\u001b[1;33m\u001b[0m\u001b[0m\n",
      "\u001b[1;31mNameError\u001b[0m: name 'np' is not defined"
     ]
    }
   ],
   "source": [
    "np.array(('ravi','majathia'))+np.array(('gujrat'))\n",
    "# It gives us type error"
   ]
  },
  {
   "cell_type": "code",
   "execution_count": null,
   "id": "24786af2",
   "metadata": {},
   "outputs": [],
   "source": []
  }
 ],
 "metadata": {
  "kernelspec": {
   "display_name": "Python 3",
   "language": "python",
   "name": "python3"
  },
  "language_info": {
   "codemirror_mode": {
    "name": "ipython",
    "version": 3
   },
   "file_extension": ".py",
   "mimetype": "text/x-python",
   "name": "python",
   "nbconvert_exporter": "python",
   "pygments_lexer": "ipython3",
   "version": "3.8.8"
  }
 },
 "nbformat": 4,
 "nbformat_minor": 5
}
