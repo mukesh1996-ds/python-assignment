{
 "cells": [
  {
   "cell_type": "markdown",
   "id": "d8770524",
   "metadata": {},
   "source": [
    "### Q1. What is the benefit of regular expressions?"
   ]
  },
  {
   "cell_type": "markdown",
   "id": "f7106ab8",
   "metadata": {},
   "source": [
    "Supported by almost any language, there are only a few programming languages which do not understand regular expressions; Do more with less, keep your code cleaner; Faster validations, instead of having many IF and ELSE operators you may validate only once with a regular expression.\n",
    "\n",
    "A Regular Expression is used for identifying a search pattern in a text string. It also helps in finding out the correctness of the data and even operations such as finding, replacing and formatting the data is possible using Regular Expressions.\n",
    "\n",
    "Regular Expressions, also known as “regex” or “regexp”, are used to match strings of text such as particular characters, words, or patterns of characters. It means that we can match and extract any string pattern from the text with the help of regular expressions."
   ]
  },
  {
   "cell_type": "code",
   "execution_count": null,
   "id": "4991d980",
   "metadata": {},
   "outputs": [],
   "source": []
  },
  {
   "cell_type": "markdown",
   "id": "c1c00c01",
   "metadata": {},
   "source": [
    "### Q2. Describe the difference between the effects of \"(ab)c+\" and \"a(bc)+.\" Which of these, if any, is the unqualified pattern \"abc+\"?"
   ]
  },
  {
   "cell_type": "code",
   "execution_count": null,
   "id": "deb80262",
   "metadata": {},
   "outputs": [],
   "source": []
  },
  {
   "cell_type": "markdown",
   "id": "558f5508",
   "metadata": {},
   "source": [
    "### Q3. How much do you need to use the following sentence while using regular expressions?\n",
    "\n",
    "import re"
   ]
  },
  {
   "cell_type": "markdown",
   "id": "12bd6119",
   "metadata": {},
   "source": [
    "A regular expression (sometimes called a rational expression) is a sequence of characters that define a search pattern, mainly for use in pattern matching with strings, or string matching, i.e. “find and replace”-like operations."
   ]
  },
  {
   "cell_type": "code",
   "execution_count": null,
   "id": "3033f371",
   "metadata": {},
   "outputs": [],
   "source": []
  },
  {
   "cell_type": "markdown",
   "id": "c9ee0a15",
   "metadata": {},
   "source": [
    "### Q4. Which characters have special significance in square brackets when expressing a range, and under what circumstances?"
   ]
  },
  {
   "cell_type": "markdown",
   "id": "8fd0ccf9",
   "metadata": {},
   "source": [
    "Inside a character class, only the character class metacharacters (backslash, circumflex anchor and hyphen) have special meaning.\n",
    "\n",
    "Square brackets match something that you kind of don't know about a string you're looking for. If you are searching for a name in a string but you're not sure of the exact name you could use instead of that letter a square bracket. Everything you put inside these brackets are alternatives in place of one character."
   ]
  },
  {
   "cell_type": "code",
   "execution_count": null,
   "id": "996fac7e",
   "metadata": {},
   "outputs": [],
   "source": []
  },
  {
   "cell_type": "markdown",
   "id": "5ced794e",
   "metadata": {},
   "source": [
    "### Q5. How does compiling a regular-expression object benefit you?"
   ]
  },
  {
   "cell_type": "markdown",
   "id": "3254c73d",
   "metadata": {},
   "source": [
    "The re. compile() method\n",
    "We can combine a regular expression pattern into pattern objects, which can be used for pattern matching. It also helps to search a pattern again without rewriting it.\n",
    "\n",
    "In simple terms, We can compile a regular expression into a regex object to look for occurrences of the same pattern inside various target strings without rewriting it."
   ]
  },
  {
   "cell_type": "code",
   "execution_count": null,
   "id": "4ce8abd8",
   "metadata": {},
   "outputs": [],
   "source": []
  },
  {
   "cell_type": "markdown",
   "id": "a8bcf666",
   "metadata": {},
   "source": [
    "### Q6. What are some examples of how to use the match object returned by re.match and re.search?"
   ]
  },
  {
   "cell_type": "markdown",
   "id": "09fe9427",
   "metadata": {},
   "source": [
    "The re.search() and re.match() both are functions of re module in python. These functions are very efficient and fast for searching in strings. The function searches for some substring in a string and returns a match object if found, else it returns none.\n",
    "\n",
    "There is a difference between the use of both functions. Both return the first match of a substring found in the string, but re.match() searches only from the beginning of the string and return match object if found. But if a match of substring is found somewhere in the middle of the string, it returns none. \n",
    "While re.search() searches for the whole string even if the string contains multi-lines and tries to find a match of the substring in all the lines of string."
   ]
  },
  {
   "cell_type": "code",
   "execution_count": 2,
   "id": "d49f2638",
   "metadata": {},
   "outputs": [
    {
     "name": "stdout",
     "output_type": "stream",
     "text": [
      "<re.Match object; span=(75, 81), match='string'>\n",
      "None\n",
      "<re.Match object; span=(0, 6), match='string'>\n",
      "<re.Match object; span=(0, 6), match='string'>\n"
     ]
    }
   ],
   "source": [
    "#Example : \n",
    "# import re module\n",
    "import re\n",
    " Substring ='string'\n",
    "\n",
    "String1 ='''We are learning regex with geeksforgeeks\n",
    "         regex is very useful for string matching.\n",
    "          It is fast too.'''\n",
    "String2 ='''string We are learning regex with geeksforgeeks\n",
    "         regex is very useful for string matching.\n",
    "          It is fast too.'''\n",
    " \n",
    "# Use of re.search() Method\n",
    "print(re.search(Substring, String1, re.IGNORECASE))\n",
    "# Use of re.match() Method\n",
    "print(re.match(Substring, String1, re.IGNORECASE))\n",
    " \n",
    "# Use of re.search() Method\n",
    "print(re.search(Substring, String2, re.IGNORECASE))\n",
    "# Use of re.match() Method\n",
    "print(re.match(Substring, String2, re.IGNORECASE))"
   ]
  },
  {
   "cell_type": "markdown",
   "id": "e4eda078",
   "metadata": {},
   "source": [
    "Conclusion : \n",
    "\n",
    "1.re.search() is returning match object and implies that first match found at index 69.\n",
    "\n",
    "2.re.match() is returning none because match exists in the second line of the string and re.match() only works if the match is found at the beginning of the string. \n",
    "\n",
    "3.re.IGNORECASE is used to ignore the case sensitivity in the strings. \n",
    "\n",
    "4.Both re.search() and re.match() returns only the first occurrence of a"
   ]
  },
  {
   "cell_type": "code",
   "execution_count": null,
   "id": "d5576644",
   "metadata": {},
   "outputs": [],
   "source": []
  },
  {
   "cell_type": "code",
   "execution_count": null,
   "id": "40f8ae2c",
   "metadata": {},
   "outputs": [],
   "source": []
  },
  {
   "cell_type": "code",
   "execution_count": null,
   "id": "aeee88bf",
   "metadata": {},
   "outputs": [],
   "source": []
  },
  {
   "cell_type": "markdown",
   "id": "f1c8dc09",
   "metadata": {},
   "source": [
    "### Q7. What is the difference between using a vertical bar (|) as an alteration and using square brackets as a character set?"
   ]
  },
  {
   "cell_type": "code",
   "execution_count": null,
   "id": "99ec4a58",
   "metadata": {},
   "outputs": [],
   "source": [
    "Alternations and their applications\n",
    "In real world applications, we often use regular expressions that match any one of two or more alternatives. Also, we sometimes use a quantifier to apply to several expressions. All such goals are achieved by grouping with parentheses; and, in the use of alternatives, applying alternation with the vertical bar (|).\n",
    "\n",
    "Using the vertical bar(|)\n",
    "Alternation is useful when we need to match any one of several different alternatives. For example, the regex airways|airplane|bomber will match any text that contains airways or airplane or bomber. The same is achieved by using the regex air(ways|plane)|bomber.\n",
    "\n",
    "If we used the regex (airways|airplane|bomber), it would match any of the three expressions. Consider the regex (air(ways|plane)|bomber), which has two captures if the first expression matches (airways or airplane as the first capture and ways or plane as the second capture), and one capture if the second expression matches (bomber). We can switch off the capturing effect by following an opening parenthesis with ?: like this:\n",
    "\n",
    "(air(?:ways|plane)|bomber)\n",
    "\n",
    " This will have only one capture if it matches (airways or airplane or bomber).\n",
    "\n",
    "Example\n",
    "The following code illustrates the points discussed above −"
   ]
  },
  {
   "cell_type": "code",
   "execution_count": 4,
   "id": "50acee3a",
   "metadata": {},
   "outputs": [
    {
     "name": "stdout",
     "output_type": "stream",
     "text": [
      "['airways', 'airplane', 'bomber']\n",
      "[('airways', 'ways'), ('airplane', 'plane'), ('bomber', '')]\n",
      "['airways', 'airplane', 'bomber']\n"
     ]
    }
   ],
   "source": [
    "import re\n",
    "s = 'airways aircraft airplane bomber'\n",
    "result = re.findall(r'(airways|airplane|bomber)', s)\n",
    "print (result)\n",
    "result2 = re.findall(r'(air(ways|plane)|bomber)', s)\n",
    "print (result2)\n",
    "result3 = re.findall(r'(air(?:ways|plane)|bomber)', s)\n",
    "print (result3)"
   ]
  },
  {
   "attachments": {
    "image.png": {
     "image/png": "[encoded data removed]"
    }
   },
   "cell_type": "markdown",
   "id": "a4693c4c",
   "metadata": {},
   "source": [
    "[] - Square brackets\n",
    "\n",
    "Square brackets specifies a set of characters you wish to match.\n",
    "![image.png](attachment:image.png)\n",
    "\n",
    "Here, [abc] will match if the string you are trying to match contains any of the a, b or c.\n",
    "\n",
    "You can also specify a range of characters using - inside square brackets.\n",
    "\n",
    "* [a-e] is the same as [abcde].\n",
    "* [1-4] is the same as [1234].\n",
    "* [0-39] is the same as [01239].\n",
    "\n",
    "You can complement (invert) the character set by using caret ^ symbol at the start of a square-bracket.\n",
    "\n",
    "* [^abc] means any character except a or b or c.\n",
    "* [^0-9] means any non-digit character."
   ]
  },
  {
   "cell_type": "code",
   "execution_count": null,
   "id": "29d6f47f",
   "metadata": {},
   "outputs": [],
   "source": []
  },
  {
   "cell_type": "code",
   "execution_count": null,
   "id": "2026e145",
   "metadata": {},
   "outputs": [],
   "source": []
  },
  {
   "cell_type": "code",
   "execution_count": null,
   "id": "fc382797",
   "metadata": {},
   "outputs": [],
   "source": []
  },
  {
   "cell_type": "markdown",
   "id": "ca9a6bdd",
   "metadata": {},
   "source": [
    "### Q8. In regular-expression search patterns, why is it necessary to use the raw-string indicator (r)? In   replacement strings?"
   ]
  },
  {
   "cell_type": "markdown",
   "id": "36c924f5",
   "metadata": {},
   "source": [
    "Because regular expressions are frequently static strings, which are conveniently represented as string literals. And from the different string literal notations available, raw strings are a convenient choice, when the regular expression includes a backslash character.\n",
    "\n",
    "In Python, strings prefixed with r or R , such as r'...' and r\"...\" , are called raw strings and treat backslashes \\ as literal characters. Raw strings are useful when handling with strings that use a lot of backslashes, such as Windows paths and regular expression patterns."
   ]
  },
  {
   "cell_type": "code",
   "execution_count": null,
   "id": "d3de6824",
   "metadata": {},
   "outputs": [],
   "source": []
  },
  {
   "cell_type": "code",
   "execution_count": null,
   "id": "9d46d858",
   "metadata": {},
   "outputs": [],
   "source": []
  }
 ],
 "metadata": {
  "kernelspec": {
   "display_name": "Python 3",
   "language": "python",
   "name": "python3"
  },
  "language_info": {
   "codemirror_mode": {
    "name": "ipython",
    "version": 3
   },
   "file_extension": ".py",
   "mimetype": "text/x-python",
   "name": "python",
   "nbconvert_exporter": "python",
   "pygments_lexer": "ipython3",
   "version": "3.8.8"
  }
 },
 "nbformat": 4,
 "nbformat_minor": 5
}
