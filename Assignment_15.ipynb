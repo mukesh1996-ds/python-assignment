{
 "cells": [
  {
   "cell_type": "markdown",
   "id": "d8770524",
   "metadata": {},
   "source": [
    "### 1. What are the new features added in Python 3.8 version?"
   ]
  },
  {
   "cell_type": "code",
   "execution_count": null,
   "id": "ad6b875b",
   "metadata": {},
   "outputs": [],
   "source": [
    "Summary – Release highlights.\n",
    "* PEP 405: Virtual Environments.\n",
    "* PEP 420: Implicit Namespace Packages.\n",
    "* PEP 3118: New memoryview implementation and buffer protocol documentation.\n",
    "* PEP 393: Flexible String Representation.\n",
    "* PEP 397: Python Launcher for Windows.\n",
    "* PEP 3151: Reworking the OS and IO exception hierarchy.\n",
    "* PEP 587: Python Initialization Configuration\n",
    "* PEP 590: Vectorcall: a fast calling protocol for CPython\n",
    "        "
   ]
  },
  {
   "cell_type": "code",
   "execution_count": null,
   "id": "4991d980",
   "metadata": {},
   "outputs": [],
   "source": []
  },
  {
   "cell_type": "markdown",
   "id": "c1c00c01",
   "metadata": {},
   "source": [
    "### 2.\tWhat is monkey patching in Python?"
   ]
  },
  {
   "cell_type": "markdown",
   "id": "05c3c7a9",
   "metadata": {},
   "source": [
    "In Ruby, Python, and many other dynamic programming languages, the term monkey patch only refers to dynamic modifications of a class or module at runtime, motivated by the intent to patch existing third-party code as a workaround to a bug or feature which does not act as desired."
   ]
  },
  {
   "cell_type": "code",
   "execution_count": null,
   "id": "fb2863ca",
   "metadata": {},
   "outputs": [],
   "source": []
  },
  {
   "cell_type": "code",
   "execution_count": null,
   "id": "b21fce71",
   "metadata": {},
   "outputs": [],
   "source": []
  },
  {
   "cell_type": "markdown",
   "id": "558f5508",
   "metadata": {},
   "source": [
    "### 3.\tWhat is the difference between a shallow copy and deep copy?"
   ]
  },
  {
   "cell_type": "markdown",
   "id": "097d2e04",
   "metadata": {},
   "source": [
    "Assignment statements in Python do not copy objects, they create bindings between a target and an object. For collections that are mutable or contain mutable items, a copy is sometimes needed so one can change one copy without changing the other. This module provides generic shallow and deep copy operations (explained below).\n",
    "\n",
    "Interface summary:\n",
    "copy.copy(x)\n",
    "Return a shallow copy of x.\n",
    "\n",
    "copy.deepcopy(x[, memo])\n",
    "Return a deep copy of x.\n",
    "\n",
    "exception copy.Error\n",
    "Raised for module specific errors.\n",
    "\n",
    "The difference between shallow and deep copying is only relevant for compound objects (objects that contain other objects, like lists or class instances):\n",
    "\n",
    "A shallow copy constructs a new compound object and then (to the extent possible) inserts references into it to the objects found in the original. A deep copy constructs a new compound object and then, recursively, inserts copies into it of the objects found in the original."
   ]
  },
  {
   "cell_type": "code",
   "execution_count": null,
   "id": "3033f371",
   "metadata": {},
   "outputs": [],
   "source": []
  },
  {
   "cell_type": "markdown",
   "id": "c9ee0a15",
   "metadata": {},
   "source": [
    "### 4.\tWhat is the maximum possible length of an identifier?"
   ]
  },
  {
   "cell_type": "code",
   "execution_count": null,
   "id": "4b1325c1",
   "metadata": {},
   "outputs": [],
   "source": [
    "In Python, the highest possible length of an identifier is 79 characters. Python is a high level programming language. It’s also a complex form and a collector of waste.\n",
    "\n",
    "Python, particularly when combined with identifiers, is case-sensitive.\n",
    "When writing or using identifiers in Python, it has a maximum of 79 characters.\n",
    "Unlikely, Python gives the identifiers unlimited length.\n",
    "However, the layout of PEP-8 prevents the user from breaking the rules and includes a 79-character limit."
   ]
  },
  {
   "cell_type": "code",
   "execution_count": null,
   "id": "996fac7e",
   "metadata": {},
   "outputs": [],
   "source": []
  },
  {
   "cell_type": "markdown",
   "id": "5ced794e",
   "metadata": {},
   "source": [
    "### 5.\tWhat is generator comprehension?"
   ]
  },
  {
   "cell_type": "markdown",
   "id": "899bbca5",
   "metadata": {},
   "source": [
    "A generator comprehension is a single-line specification for defining a generator in Python. It is absolutely essential to learn this syntax in order to write simple and readable code. Note: Generator comprehensions are not the only method for defining generators in Python. One can define a generator similar to the way one can define a function (which we will encounter soon). See this section of the official Python tutorial if you are interested in diving deeper into generators."
   ]
  },
  {
   "cell_type": "markdown",
   "id": "83d014f5",
   "metadata": {},
   "source": [
    "Python provides a sleek syntax for defining a simple generator in a single line of code; this expression is known as a generator comprehension. The following syntax is extremely useful and will appear very frequently in Python code:"
   ]
  },
  {
   "cell_type": "markdown",
   "id": "e1da0e0d",
   "metadata": {},
   "source": [
    "The syntax (<expression> for <var> in <iterable> [if <condition>]) specifies the general form for a generator comprehension. This produces a generator, whose instructions for generating its members are provided within the parenthetical statement."
   ]
  },
  {
   "cell_type": "markdown",
   "id": "e479abcb",
   "metadata": {},
   "source": [
    "Written in a long form, the pseudo-code for"
   ]
  },
  {
   "cell_type": "markdown",
   "id": "42a55d00",
   "metadata": {},
   "source": [
    "(<expression> for <var> in <iterable> if <condition>)"
   ]
  },
  {
   "cell_type": "markdown",
   "id": "254fe550",
   "metadata": {},
   "source": [
    "is:"
   ]
  },
  {
   "cell_type": "code",
   "execution_count": null,
   "id": "09108140",
   "metadata": {},
   "outputs": [],
   "source": [
    "for <var> in <iterable>:\n",
    "    if bool(<condition>):\n",
    "        yield <expression>"
   ]
  },
  {
   "cell_type": "code",
   "execution_count": null,
   "id": "eab34d7e",
   "metadata": {},
   "outputs": [],
   "source": []
  },
  {
   "cell_type": "code",
   "execution_count": null,
   "id": "8cf11950",
   "metadata": {},
   "outputs": [],
   "source": []
  }
 ],
 "metadata": {
  "kernelspec": {
   "display_name": "Python 3",
   "language": "python",
   "name": "python3"
  },
  "language_info": {
   "codemirror_mode": {
    "name": "ipython",
    "version": 3
   },
   "file_extension": ".py",
   "mimetype": "text/x-python",
   "name": "python",
   "nbconvert_exporter": "python",
   "pygments_lexer": "ipython3",
   "version": "3.8.8"
  }
 },
 "nbformat": 4,
 "nbformat_minor": 5
}
