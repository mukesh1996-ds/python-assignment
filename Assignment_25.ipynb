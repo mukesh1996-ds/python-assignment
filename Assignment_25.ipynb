{
 "cells": [
  {
   "cell_type": "markdown",
   "id": "d8770524",
   "metadata": {},
   "source": [
    "### Q1. What is the distinction between a numpy array and a pandas data frame? Is there a way to convert between the two if there is?"
   ]
  },
  {
   "cell_type": "markdown",
   "id": "a154b248",
   "metadata": {},
   "source": [
    "An array is a three-dimensional (r × c × h) object (think a bunch of stacked r × c matrices). All elements in an array must be of the same data type (character > numeric > logical). A dataframe is a two-dimensional (r × c × h) object (like a matrix). A list is a set of objects.\n",
    "\n",
    "Series are similar to one-dimensional NumPy arrays, with a single dtype, although with an additional index (list of row labels). DataFrames are an ordered sequence of Series, sharing the same index, with labeled columns. For [ ] and loc , indexing and slicing are based on labels (i.e., index and column labels)."
   ]
  },
  {
   "cell_type": "markdown",
   "id": "e25672cc",
   "metadata": {},
   "source": [
    "Pandas DataFrame is two-dimensional size-mutable, potentially heterogeneous tabular data structure with labeled axes (rows and columns). This data structure can be converted to NumPy ndarray with the help of Dataframe.to_numpy() method.\n",
    "\n",
    "Parameters:\n",
    "dtype: Data type which we are passing like str.\n",
    "copy: [bool, default False] Ensures that the returned value is a not a view on another array.\n",
    "\n",
    "Returns:\n",
    "numpy.ndarray\n",
    "\n",
    "Example 1: Changing the DataFrame into numpy array by using a method DataFrame.to_numpy(). Always remember that when dealing with lot of data you should clean the data first to get the high accuracy. Although in this code we use the first five values of Weight column by using .head() method."
   ]
  },
  {
   "cell_type": "code",
   "execution_count": null,
   "id": "6d8e081d",
   "metadata": {},
   "outputs": [],
   "source": [
    "# importing pandas\n",
    "import pandas as pd\n",
    "\n",
    "# reading the csv\n",
    "data = pd.read_csv(\"nba.csv\")\n",
    "\t\n",
    "data.dropna(inplace = True)\n",
    "\n",
    "# creating DataFrame form weight column\n",
    "gfg = pd.DataFrame(data['Weight'].head())\n",
    "\n",
    "# using to_numpy() function\n",
    "print(gfg.to_numpy())\n"
   ]
  },
  {
   "cell_type": "code",
   "execution_count": null,
   "id": "76446361",
   "metadata": {},
   "outputs": [],
   "source": []
  },
  {
   "cell_type": "code",
   "execution_count": null,
   "id": "baa55289",
   "metadata": {},
   "outputs": [],
   "source": []
  },
  {
   "cell_type": "markdown",
   "id": "c1c00c01",
   "metadata": {},
   "source": [
    "### Q2. What can go wrong when an user enters in a stock-ticker symbol, and how do you handle it?"
   ]
  },
  {
   "cell_type": "markdown",
   "id": "2d8cc74d",
   "metadata": {},
   "source": [
    "A stock symbol can consist of letters, numbers, or a combination of both, and is a way to uniquely identify that stock. The symbols were kept as short as possible to reduce the number of characters that had to be printed on the ticker tape, and to make it easy to recognize by traders and investors.\n",
    "\n",
    "A ticker symbol change really means nothing to you, the investor, in the grand scheme of things. The change doesn't do anything to markets or to the way you execute trades. Since everything is electronic, your trading platform or broker will already update your portfolio to include the new ticker symbol.\n",
    "\n",
    "first we have to read that stock ticker symbol and than according to their meaning we have to show their results if users entersstock ticker symbol."
   ]
  },
  {
   "cell_type": "code",
   "execution_count": null,
   "id": "83a180b4",
   "metadata": {},
   "outputs": [],
   "source": []
  },
  {
   "cell_type": "code",
   "execution_count": null,
   "id": "dbac37da",
   "metadata": {},
   "outputs": [],
   "source": []
  },
  {
   "cell_type": "markdown",
   "id": "558f5508",
   "metadata": {},
   "source": [
    "### Q3. Identify some of the plotting techniques that are used to produce a stock-market chart."
   ]
  },
  {
   "cell_type": "markdown",
   "id": "f6cabb98",
   "metadata": {},
   "source": [
    "What are stock charts\n",
    "\n",
    "As we discussed earlier, trying to perform technical analysis without using stock charts is like trying to build a house without owning land! So we must try to understand how to read the charts. But before we get to that, let’s try to answer the question, what is a stock chart?\n",
    "\n",
    "Put in the simplest possible terms, it is a graphical representation of how a stock’s price or trading volumes have changed over time. This relationship can be presented in a number of ways, through the use of different types of charts. It is your job, as a technical analyst, to identify the type that will bring out a hidden trend most effectively.\n",
    "\n",
    "Stock charts, like all other charts, have two axis—the vertical axis and the horizontal axis. The horizontal axis represents the historical time periods for which a technical chart has been constructed. The vertical axis displays the stock price or the trading volume corresponding to each period.\n",
    "\n",
    "There are many types of charts that are used for technical analysis. However, the four types that are most common are—line chart, bar chart, point and figure chart and candlestick chart. We will discuss these technical charts extensively later. However, we have illustrated three types of stock charts below. The bar chart looks a lot like the candlestick chart. All the charts displayed below are stock price charts. The nature of the input may, however, have to be altered when you move from one chart type to another.\n",
    "\n",
    "\n",
    "\n",
    "\n",
    "\n",
    "Line Chart\n",
    "\n",
    "\n",
    "\n",
    "\n",
    "Point and Figure Chart\n",
    "\n",
    "\n",
    "\n",
    "\n",
    "Candlestick Chart\n",
    "\n",
    "\n",
    "What are trend line and trend length and their roles\n",
    "Now that you are familiar with the different types of charts, the next thing you want to understand is how to read them. Before doing so, though, let us look at trend lines and trend lengths – the principal tools used for the analysis of technical charts. Let’s look at them individually:\n",
    "\n",
    "Trend lines: A trend line is a straight line that connects all the tops or bottoms in stock charts with each other. We touched upon trend lines in one of the previous sections. Here, we concern ourselves more with their utility.\n",
    "Trend lines are essential because trends are sometimes not so-clearly visible in technical charts. How often we see zigzag patches! They make stock analysis tricky.\n",
    "\n",
    "To reduce this distortion, an external aid has to be used. Take the example of the line chart we saw earlier. We have reproduced it below with a few additional touches. Look at the section that has been highlighted. At the outset, there is no clear reason to say whether the price trend is upwards or downwards. Tops and bottoms in this section are not clearly going higher or lower conclusively. How, then, will you go about your chart analysis here? Using trend lines may prove helpful as they may be able to cut through the confusion here. We have done just this.\n",
    "\n",
    "\n"
   ]
  },
  {
   "cell_type": "code",
   "execution_count": null,
   "id": "3033f371",
   "metadata": {},
   "outputs": [],
   "source": []
  },
  {
   "cell_type": "markdown",
   "id": "c9ee0a15",
   "metadata": {},
   "source": [
    "### Q4. Why is it essential to print a legend on a stock market chart?"
   ]
  },
  {
   "cell_type": "markdown",
   "id": "e194f3c5",
   "metadata": {},
   "source": [
    "It is essential to print a legend in any of the pltting because we can't know which colour and which axis is presentiing what so by following legend we get to know the plottings conclusion and all in the plot."
   ]
  },
  {
   "cell_type": "code",
   "execution_count": null,
   "id": "996fac7e",
   "metadata": {},
   "outputs": [],
   "source": []
  },
  {
   "cell_type": "markdown",
   "id": "5ced794e",
   "metadata": {},
   "source": [
    "### Q5. What is the best way to limit the length of a pandas data frame to less than a year?"
   ]
  },
  {
   "cell_type": "markdown",
   "id": "7fa882bf",
   "metadata": {},
   "source": [
    "df['Date'] = pd.to_datetime(df['Date'])\n",
    "df.head(<'write according to limit here'>)"
   ]
  },
  {
   "cell_type": "code",
   "execution_count": null,
   "id": "4ce8abd8",
   "metadata": {},
   "outputs": [],
   "source": []
  },
  {
   "cell_type": "code",
   "execution_count": null,
   "id": "afba92a4",
   "metadata": {},
   "outputs": [],
   "source": []
  },
  {
   "cell_type": "markdown",
   "id": "a8bcf666",
   "metadata": {},
   "source": [
    "### Q6. What is the definition of a 180-day moving average?"
   ]
  },
  {
   "cell_type": "markdown",
   "id": "e46ed981",
   "metadata": {},
   "source": [
    "moving average is a technique in the stock market predictionin which it is a giving a average of the 180 days closing price or opening  price if it's in a increasing trend so we can the predict further  predictions according to these conclusions."
   ]
  },
  {
   "cell_type": "code",
   "execution_count": null,
   "id": "2d81f599",
   "metadata": {},
   "outputs": [],
   "source": []
  },
  {
   "cell_type": "code",
   "execution_count": null,
   "id": "36b8897a",
   "metadata": {},
   "outputs": [],
   "source": []
  },
  {
   "cell_type": "markdown",
   "id": "f1c8dc09",
   "metadata": {},
   "source": [
    "### Q7. Did the chapter's final example use \"indirect\" importing? If so, how exactly do you do it?"
   ]
  },
  {
   "cell_type": "code",
   "execution_count": 3,
   "id": "f6536bab",
   "metadata": {},
   "outputs": [],
   "source": [
    "import numpy as np\n",
    "\n",
    "p = __import__('numpy', globals(), locals(), [], 0)\n",
    "  \n",
    "\n",
    "a = np.array([1, 2, 3])\n",
    "\n",
    "# print(type(a))"
   ]
  },
  {
   "cell_type": "code",
   "execution_count": 4,
   "id": "24786af2",
   "metadata": {},
   "outputs": [
    {
     "data": {
      "text/plain": [
       "array([1, 2, 3])"
      ]
     },
     "execution_count": 4,
     "metadata": {},
     "output_type": "execute_result"
    }
   ],
   "source": [
    "a"
   ]
  },
  {
   "cell_type": "code",
   "execution_count": null,
   "id": "0c8aa0c6",
   "metadata": {},
   "outputs": [],
   "source": []
  }
 ],
 "metadata": {
  "kernelspec": {
   "display_name": "Python 3",
   "language": "python",
   "name": "python3"
  },
  "language_info": {
   "codemirror_mode": {
    "name": "ipython",
    "version": 3
   },
   "file_extension": ".py",
   "mimetype": "text/x-python",
   "name": "python",
   "nbconvert_exporter": "python",
   "pygments_lexer": "ipython3",
   "version": "3.8.8"
  }
 },
 "nbformat": 4,
 "nbformat_minor": 5
}
