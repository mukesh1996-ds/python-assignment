{
 "cells": [
  {
   "cell_type": "markdown",
   "id": "d8770524",
   "metadata": {},
   "source": [
    "### Q1. Define the relationship between a class and its instances. Is it a one-to-one or a one-to-many partnership, for example\n"
   ]
  },
  {
   "cell_type": "markdown",
   "id": "7b2564e8",
   "metadata": {},
   "source": [
    "A class is a set of entities, which are called the instances of the class. An entity can be an instance of many classes, which are called its types, and a class can be a type of many classes.\n",
    "\n",
    "Class variables can only be assigned when a class has been defined. Instance variables, on the other hand, can be assigned or changed at any time. Both class variables and instance variables store a value in a program, just like any other Python variable.\n",
    "\n",
    "Instances are the data memebers in the class and and one to many releationships we can make there are no restrictions to made the any number of the data members and they are common for all member function in the class if they can private too.\n",
    "\n",
    "A class is a blueprint which you use to create objects. An object is an instance of a class - it's a concrete 'thing' that you made using a specific class. So, 'object' and 'instance' are the same thing, but the word 'instance' indicates the relationship of an object to its class.\n",
    "\n",
    "A class describes a data type. An instance of a class is an object of the data type that exists in memory.\n",
    "\n",
    "A class thus denotes a category of objects and act as a blueprint for creating such objects. An object exhibits the property and behaviors defined by its class. Generally, an object is an instance of a class."
   ]
  },
  {
   "cell_type": "code",
   "execution_count": null,
   "id": "4991d980",
   "metadata": {},
   "outputs": [],
   "source": []
  },
  {
   "cell_type": "markdown",
   "id": "c1c00c01",
   "metadata": {},
   "source": [
    "### Q2. What kind of data is held only in an instance?"
   ]
  },
  {
   "cell_type": "markdown",
   "id": "5eea2d3c",
   "metadata": {},
   "source": [
    "In python we can held any type of data to the instnce of th class because here there is nothing like datatype like in java or anything.so we can assign any type of data like list,tuple,duict,set,int,float,bool,object_of any_other."
   ]
  },
  {
   "cell_type": "code",
   "execution_count": null,
   "id": "fbf49b6b",
   "metadata": {},
   "outputs": [],
   "source": []
  },
  {
   "cell_type": "code",
   "execution_count": null,
   "id": "e7b61c7f",
   "metadata": {},
   "outputs": [],
   "source": []
  },
  {
   "cell_type": "markdown",
   "id": "558f5508",
   "metadata": {},
   "source": [
    "### Q3. What kind of knowledge is stored in a class?\n",
    "\n",
    "\n",
    "\n"
   ]
  },
  {
   "cell_type": "markdown",
   "id": "c965e27c",
   "metadata": {},
   "source": [
    "In class we can store suppose any root is a class name and thir branches are stored as member functions and their parts we\n",
    "can stored as a instances in the class."
   ]
  },
  {
   "cell_type": "code",
   "execution_count": null,
   "id": "3033f371",
   "metadata": {},
   "outputs": [],
   "source": []
  },
  {
   "cell_type": "markdown",
   "id": "c9ee0a15",
   "metadata": {},
   "source": [
    "### Q4. What exactly is a method, and how is it different from a regular function?\n",
    "\n",
    "\n",
    "\n"
   ]
  },
  {
   "attachments": {
    "image.png": {
     "image/png": "[encoded data removed]"
    }
   },
   "cell_type": "markdown",
   "id": "2378c005",
   "metadata": {},
   "source": [
    "Methods are associated with the objects of the class they belong to. Functions are not associated with any object. We can invoke a function just by its name. Functions operate on the data you pass to them as arguments.\n",
    "\n",
    "Method and a function are the same, with different terms. A method is a procedure or function in object-oriented programming.\n",
    "\n",
    "A function is a group of reusable code which can be called anywhere in your program. This eliminates the need for writing the same code again and again. It helps programmers in writing modular codes.\n",
    "![image.png](attachment:image.png)\n",
    "We can conclude that Methods and Functions are like those two very similar options that appear in your Multiple Choice Questions. They both appear to be similar when you see them but have key differences in what they actually are.\n",
    "\n",
    "In a nutshell, both methods and functions perform tasks and may return some value. But the difference lies in the fact that methods are ‘associated’ with objects, while functions are not."
   ]
  },
  {
   "cell_type": "code",
   "execution_count": null,
   "id": "93ff8f1e",
   "metadata": {},
   "outputs": [],
   "source": []
  },
  {
   "cell_type": "code",
   "execution_count": null,
   "id": "996fac7e",
   "metadata": {},
   "outputs": [],
   "source": []
  },
  {
   "cell_type": "markdown",
   "id": "5ced794e",
   "metadata": {},
   "source": [
    "### Q5. Is inheritance supported in Python, and if so, what is the syntax?\n",
    "\n",
    "\n",
    "\n"
   ]
  },
  {
   "cell_type": "markdown",
   "id": "c8953773",
   "metadata": {},
   "source": [
    "Inheritance is the capability of one class to derive or inherit the properties from another class. The benefits of inheritance are: \n",
    " \n",
    "\n",
    "1.It represents real-world relationships well.\n",
    "\n",
    "2.It provides reusability of a code. We don’t have to write the same code again and again. Also, it \n",
    "\n",
    "3.allows us to add more features to a class without modifying it.\n",
    "It is transitive in nature, which means that if class B inherits from another class A, then all the subclasses of B would automatically inherit from class A."
   ]
  },
  {
   "cell_type": "code",
   "execution_count": 1,
   "id": "4ce8abd8",
   "metadata": {},
   "outputs": [
    {
     "name": "stdout",
     "output_type": "stream",
     "text": [
      "Geek1 False\n",
      "Geek2 True\n"
     ]
    }
   ],
   "source": [
    "# A Python program to demonstrate inheritance\n",
    "\n",
    "# Base or Super class. Note object in bracket.\n",
    "# (Generally, object is made ancestor of all classes)\n",
    "# In Python 3.x \"class Person\" is\n",
    "# equivalent to \"class Person(object)\"\n",
    "class Person(object):\n",
    "\t\n",
    "\t# Constructor\n",
    "\tdef __init__(self, name):\n",
    "\t\tself.name = name\n",
    "\n",
    "\t# To get name\n",
    "\tdef getName(self):\n",
    "\t\treturn self.name\n",
    "\n",
    "\t# To check if this person is an employee\n",
    "\tdef isEmployee(self):\n",
    "\t\treturn False\n",
    "\n",
    "\n",
    "# Inherited or Subclass (Note Person in bracket)\n",
    "class Employee(Person):\n",
    "\n",
    "\t# Here we return true\n",
    "\tdef isEmployee(self):\n",
    "\t\treturn True\n",
    "\n",
    "# Driver code\n",
    "emp = Person(\"Geek1\") # An Object of Person\n",
    "print(emp.getName(), emp.isEmployee())\n",
    "\n",
    "emp = Employee(\"Geek2\") # An Object of Employee\n",
    "print(emp.getName(), emp.isEmployee())\n"
   ]
  },
  {
   "cell_type": "code",
   "execution_count": null,
   "id": "04b0d4f3",
   "metadata": {},
   "outputs": [],
   "source": []
  },
  {
   "cell_type": "code",
   "execution_count": null,
   "id": "8bf3335a",
   "metadata": {},
   "outputs": [],
   "source": []
  },
  {
   "cell_type": "markdown",
   "id": "a8bcf666",
   "metadata": {},
   "source": [
    "### Q6. How much encapsulation (making instance or class variables private) does Python support?\n",
    "\n"
   ]
  },
  {
   "cell_type": "markdown",
   "id": "e8f6fc0a",
   "metadata": {},
   "source": [
    "Yes,Python supports the encapsulation in the oops concept.we can make private,public and protected in the python with the help of following syntax."
   ]
  },
  {
   "cell_type": "code",
   "execution_count": 2,
   "id": "d49f2638",
   "metadata": {},
   "outputs": [],
   "source": [
    "class test:\n",
    "    def __init__(self, a , b  , c ,d ) :\n",
    "        self.__a = a \n",
    "        self.b = b\n",
    "        self.c = c \n",
    "        self.d = d \n",
    "    def test_custome(self , v ) : \n",
    "         return v - self.__a\n",
    "    \n",
    "    def __str__(self):\n",
    "        return \"this is my test code for abstraction\""
   ]
  },
  {
   "cell_type": "code",
   "execution_count": 3,
   "id": "83c4e6cf",
   "metadata": {},
   "outputs": [
    {
     "ename": "NameError",
     "evalue": "name 'A' is not defined",
     "output_type": "error",
     "traceback": [
      "\u001b[1;31m---------------------------------------------------------------------------\u001b[0m",
      "\u001b[1;31mNameError\u001b[0m                                 Traceback (most recent call last)",
      "\u001b[1;32m<ipython-input-3-2046bc720e8a>\u001b[0m in \u001b[0;36m<module>\u001b[1;34m\u001b[0m\n\u001b[1;32m----> 1\u001b[1;33m \u001b[1;32mclass\u001b[0m \u001b[0mB\u001b[0m\u001b[1;33m(\u001b[0m\u001b[0mA\u001b[0m\u001b[1;33m)\u001b[0m\u001b[1;33m:\u001b[0m\u001b[1;33m\u001b[0m\u001b[1;33m\u001b[0m\u001b[0m\n\u001b[0m\u001b[0;32m      2\u001b[0m     \u001b[1;32mpass\u001b[0m\u001b[1;33m\u001b[0m\u001b[1;33m\u001b[0m\u001b[0m\n",
      "\u001b[1;31mNameError\u001b[0m: name 'A' is not defined"
     ]
    }
   ],
   "source": [
    "class B(A):\n",
    "    pass"
   ]
  },
  {
   "cell_type": "code",
   "execution_count": 4,
   "id": "2a3c7ae5",
   "metadata": {},
   "outputs": [
    {
     "data": {
      "text/plain": [
       "10"
      ]
     },
     "execution_count": 4,
     "metadata": {},
     "output_type": "execute_result"
    }
   ],
   "source": [
    "a1=test(10,20,30,40)\n",
    "a1._test__a"
   ]
  },
  {
   "cell_type": "code",
   "execution_count": null,
   "id": "3c9e8d59",
   "metadata": {},
   "outputs": [],
   "source": []
  },
  {
   "cell_type": "markdown",
   "id": "f1c8dc09",
   "metadata": {},
   "source": [
    "### Q7. How do you distinguish between a class variable and an instance variable?\n",
    "\n"
   ]
  },
  {
   "cell_type": "markdown",
   "id": "b0295159",
   "metadata": {},
   "source": [
    "Class variables also known as static variables are declared with the static keyword in a class, but outside a method, constructor or a block. Instance variables are created when an object is created with the use of the keyword 'new' and destroyed when the object is destroyed.\n",
    "\n",
    "There would only be one copy of each class variable per class, regardless of how many objects are created from it. Instance variables hold values that must be referenced by more than one method, constructor or block, or essential parts of an object's state that must be present throughout the class.\n",
    "\n",
    "class variables are created when the program starts and destroyed when the program stops. Instance variables are created when an object is created with the use of the keyword 'new' and destroyed when the object is destroyed."
   ]
  },
  {
   "cell_type": "code",
   "execution_count": null,
   "id": "27bb1307",
   "metadata": {},
   "outputs": [],
   "source": []
  },
  {
   "cell_type": "code",
   "execution_count": null,
   "id": "38f8b060",
   "metadata": {},
   "outputs": [],
   "source": []
  },
  {
   "cell_type": "markdown",
   "id": "ca9a6bdd",
   "metadata": {},
   "source": [
    "### Q8. When, if ever, can self be included in a class's method definitions?\n"
   ]
  },
  {
   "cell_type": "markdown",
   "id": "c82c6fba",
   "metadata": {},
   "source": [
    "self represents the instance of the class. By using the “self” keyword we can access the attributes and methods of the class in python. It binds the attributes with the given arguments.\n",
    "\n",
    "self is like a this pointer in the c++ and c and java it is representing to the class it means it is a instance of yhat a particular class.so if we add to instance in a classs member function so we have to add the self. "
   ]
  },
  {
   "cell_type": "code",
   "execution_count": null,
   "id": "738eda4f",
   "metadata": {},
   "outputs": [],
   "source": []
  },
  {
   "cell_type": "code",
   "execution_count": null,
   "id": "a6c3f836",
   "metadata": {},
   "outputs": [],
   "source": []
  },
  {
   "cell_type": "code",
   "execution_count": null,
   "id": "ec5be5c3",
   "metadata": {},
   "outputs": [],
   "source": []
  },
  {
   "cell_type": "markdown",
   "id": "cec4443c",
   "metadata": {},
   "source": [
    "### Q9. What is the difference between the _ _add_ _ and the _ _radd_ _ methods?\n"
   ]
  },
  {
   "cell_type": "markdown",
   "id": "664e63ce",
   "metadata": {},
   "source": [
    "There is no difference. One performs a+b , the other b+a . Likewise rmul and mul produce the same result, but rsub and sub & rdiv and div do not"
   ]
  },
  {
   "cell_type": "code",
   "execution_count": null,
   "id": "c31e679b",
   "metadata": {},
   "outputs": [],
   "source": [
    "# hese methods are called to implement the binary arithmetic operations (+, -, *, /, //, %, divmod(), pow(), **, <<, >>, &, , |) with reflected (swapped) operands. These functions are only called if the left operand does not support the corresponding operation and the operands are of \n",
    "# different types.\n",
    "class Y:\n",
    "    def __init__(self, num):\n",
    "        self.num = num\n",
    "\n",
    "    def __radd__(self, other_obj):\n",
    "        return (self.num+other_obj.num)\n",
    "\n",
    "    def __str__(self):\n",
    "        return str(self.num)"
   ]
  },
  {
   "cell_type": "code",
   "execution_count": 8,
   "id": "65fc32e8",
   "metadata": {},
   "outputs": [],
   "source": [
    "y=Y(10)\n",
    "x=Y(100)"
   ]
  },
  {
   "cell_type": "code",
   "execution_count": 9,
   "id": "aadbf9b8",
   "metadata": {},
   "outputs": [
    {
     "ename": "TypeError",
     "evalue": "unsupported operand type(s) for +: 'Y' and 'Y'",
     "output_type": "error",
     "traceback": [
      "\u001b[1;31m---------------------------------------------------------------------------\u001b[0m",
      "\u001b[1;31mTypeError\u001b[0m                                 Traceback (most recent call last)",
      "\u001b[1;32m<ipython-input-9-259706549f3d>\u001b[0m in \u001b[0;36m<module>\u001b[1;34m\u001b[0m\n\u001b[1;32m----> 1\u001b[1;33m \u001b[0mx\u001b[0m\u001b[1;33m+\u001b[0m\u001b[0my\u001b[0m\u001b[1;33m\u001b[0m\u001b[1;33m\u001b[0m\u001b[0m\n\u001b[0m",
      "\u001b[1;31mTypeError\u001b[0m: unsupported operand type(s) for +: 'Y' and 'Y'"
     ]
    }
   ],
   "source": [
    "x+y"
   ]
  },
  {
   "cell_type": "code",
   "execution_count": null,
   "id": "dcab88c5",
   "metadata": {},
   "outputs": [],
   "source": []
  },
  {
   "cell_type": "markdown",
   "id": "4be173ff",
   "metadata": {},
   "source": [
    "### Q10. When is it necessary to use a reflection method? When do you not need it, even though you support the operation in question?"
   ]
  },
  {
   "cell_type": "markdown",
   "id": "978435e2",
   "metadata": {},
   "source": [
    "Reflection gives us information about the class to which an object belongs and also the methods of that class which can be executed by using the object. Through reflection we can invoke methods at runtime irrespective of the access specifier used with them.\n",
    "\n",
    "One useful real-world use of reflection is when writing a framework that has to interoperate with user-defined classes, where the framework author doesn't know what the members (or even the classes) will be. Reflection allows them to deal with any class without knowing it in advance.\n",
    "\n",
    "Reflection is often used as part of software testing, such as for the runtime creation/instantiation of mock objects. Reflection is also a key strategy for metaprogramming. In some object-oriented programming languages such as C# and Java, reflection can be used to bypass member accessibility rules.\n",
    "\n",
    "* When do you not need it..\n",
    "\n",
    "Since reflection allows code to perform operations that would be illegal in non-reflective code, such as accessing private fields and methods, the use of reflection can result in unexpected side-effects, which may render code dysfunctional and may destroy portability."
   ]
  },
  {
   "cell_type": "code",
   "execution_count": null,
   "id": "1d4133cc",
   "metadata": {},
   "outputs": [],
   "source": []
  },
  {
   "cell_type": "code",
   "execution_count": null,
   "id": "3577a92c",
   "metadata": {},
   "outputs": [],
   "source": []
  },
  {
   "cell_type": "markdown",
   "id": "a1c03717",
   "metadata": {},
   "source": [
    "### Q11. What is the _ _iadd_ _ method called?"
   ]
  },
  {
   "cell_type": "markdown",
   "id": "03f06b15",
   "metadata": {},
   "source": [
    "the main difference between __add__ and __iadd__ is that __iadd__ is actually storing that value its adding into the self. value . Example: If this is my class. class NumString: def __init__(self, value): self. value = str(value) def __int__(self): return int(self."
   ]
  },
  {
   "cell_type": "code",
   "execution_count": null,
   "id": "1be0d366",
   "metadata": {},
   "outputs": [],
   "source": []
  },
  {
   "cell_type": "code",
   "execution_count": null,
   "id": "d1ca0644",
   "metadata": {},
   "outputs": [],
   "source": []
  },
  {
   "cell_type": "markdown",
   "id": "4b48075d",
   "metadata": {},
   "source": [
    "### Q12. Is the _ _init_ _ method inherited by subclasses? What do you do if you need to customize its behavior within a subclass?"
   ]
  },
  {
   "cell_type": "markdown",
   "id": "2d6c1243",
   "metadata": {},
   "source": [
    "__init__ with inheritance\n",
    "\n",
    "But in Python, it is not compulsory that parent class constructor will always be called first. The order in which the __init__ method is called for a parent or a child class can be modified.\n",
    "\n",
    "The ability of a subclass to override a method allows a class to inherit from a superclass whose behavior is \"close enough\" and then to modify behavior as needed. The overriding method has the same name, number and type of parameters, and return type as the method that it overrides.\n",
    "Rule:A subclass inherits all of the methods within its superclass that are accessible to that subclass (unless the method is overriden by the subclass). don't inherit a superclass's method if the subclass declares a method using the same name.\n",
    "\n",
    "\n",
    "we can use super() method in the python also we have another option for use such that we can call it by class_nm.__init() and \n",
    "we can use here.\n",
    "\n"
   ]
  }
 ],
 "metadata": {
  "kernelspec": {
   "display_name": "Python 3",
   "language": "python",
   "name": "python3"
  },
  "language_info": {
   "codemirror_mode": {
    "name": "ipython",
    "version": 3
   },
   "file_extension": ".py",
   "mimetype": "text/x-python",
   "name": "python",
   "nbconvert_exporter": "python",
   "pygments_lexer": "ipython3",
   "version": "3.8.8"
  }
 },
 "nbformat": 4,
 "nbformat_minor": 5
}
