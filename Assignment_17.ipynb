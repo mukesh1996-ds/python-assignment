{
 "cells": [
  {
   "cell_type": "markdown",
   "id": "d8770524",
   "metadata": {},
   "source": [
    "### Q1. Explain the difference between greedy and non-greedy syntax with visual terms in as few words as possible. What is the bare minimum effort required to transform a greedy pattern into a non-greedy one? What characters or characters can you introduce or change?"
   ]
  },
  {
   "cell_type": "code",
   "execution_count": 1,
   "id": "ad6b875b",
   "metadata": {},
   "outputs": [
    {
     "name": "stdout",
     "output_type": "stream",
     "text": [
      "32\n",
      "(0, 32)\n",
      "<html><head><title>Title</title>\n"
     ]
    }
   ],
   "source": [
    "import re\n",
    "s = '<html><head><title>Title</title>'\n",
    "print(len(s))\n",
    "print(re.match('<.*>', s).span())\n",
    "\n",
    "print(re.match('<.*>', s).group())\n"
   ]
  },
  {
   "cell_type": "markdown",
   "id": "93ea228b",
   "metadata": {},
   "source": [
    " Here it is greedy re statemment and beecause of .* it is fetching whole string of html tag those are in the '< >' these braces. "
   ]
  },
  {
   "cell_type": "code",
   "execution_count": 2,
   "id": "b1b8c07d",
   "metadata": {},
   "outputs": [
    {
     "name": "stdout",
     "output_type": "stream",
     "text": [
      "<html>\n"
     ]
    }
   ],
   "source": [
    "print(re.match('<.*?>', s).group())"
   ]
  },
  {
   "cell_type": "markdown",
   "id": "b9e1bb3f",
   "metadata": {},
   "source": [
    " Here  it is non -geedy re expression because of theses question mark it is here only fetching the first tag that is <html> it is difference between the greedy and non greedy statement it is only first syntax where thesee '>' brace is closing here.  "
   ]
  },
  {
   "cell_type": "code",
   "execution_count": null,
   "id": "94e6963d",
   "metadata": {},
   "outputs": [],
   "source": []
  },
  {
   "cell_type": "code",
   "execution_count": null,
   "id": "692b7ed0",
   "metadata": {},
   "outputs": [],
   "source": []
  },
  {
   "cell_type": "markdown",
   "id": "c1c00c01",
   "metadata": {},
   "source": [
    "### Q2. When exactly does greedy versus non-greedy make a difference?  What if you're looking for a non-greedy match but the only one available is greedy?"
   ]
  },
  {
   "cell_type": "code",
   "execution_count": 3,
   "id": "deb80262",
   "metadata": {},
   "outputs": [
    {
     "name": "stdout",
     "output_type": "stream",
     "text": [
      "(0, 32)\n",
      "Greddy statement\n",
      "<html><head><title>Title</title>\n",
      "Non greedy statement\n",
      "<html>\n"
     ]
    }
   ],
   "source": [
    "import re\n",
    "s = '<html><head><title>Title</title>'\n",
    "\n",
    "print(re.match('<.*>', s).span())\n",
    "print('Greddy statement')\n",
    "print(re.match('<.*>', s).group())\n",
    "print('Non greedy statement')\n",
    "print(re.match('<.*?>', s).group())\n"
   ]
  },
  {
   "cell_type": "code",
   "execution_count": null,
   "id": "355f6334",
   "metadata": {},
   "outputs": [],
   "source": []
  },
  {
   "cell_type": "code",
   "execution_count": null,
   "id": "e56467c9",
   "metadata": {},
   "outputs": [],
   "source": []
  },
  {
   "cell_type": "markdown",
   "id": "558f5508",
   "metadata": {},
   "source": [
    "### Q3. In a simple match of a string, which looks only for one match and does not do any replacement, is the use of a nontagged group likely to make any practical difference?"
   ]
  },
  {
   "cell_type": "code",
   "execution_count": null,
   "id": "8ce21646",
   "metadata": {},
   "outputs": [],
   "source": []
  },
  {
   "cell_type": "code",
   "execution_count": null,
   "id": "3033f371",
   "metadata": {},
   "outputs": [],
   "source": []
  },
  {
   "cell_type": "markdown",
   "id": "c9ee0a15",
   "metadata": {},
   "source": [
    "### Q4. Describe a scenario in which using a nontagged category would have a significant impact on the program's outcomes."
   ]
  },
  {
   "cell_type": "code",
   "execution_count": null,
   "id": "4b1325c1",
   "metadata": {},
   "outputs": [],
   "source": [
    "print(re.search('a??b','aaab').group())\n",
    "\n",
    "print(re.search('a??b','aacb').group())"
   ]
  },
  {
   "cell_type": "code",
   "execution_count": null,
   "id": "67839be6",
   "metadata": {},
   "outputs": [],
   "source": []
  },
  {
   "cell_type": "code",
   "execution_count": null,
   "id": "10078970",
   "metadata": {},
   "outputs": [],
   "source": []
  },
  {
   "cell_type": "code",
   "execution_count": null,
   "id": "996fac7e",
   "metadata": {},
   "outputs": [],
   "source": []
  },
  {
   "cell_type": "markdown",
   "id": "5ced794e",
   "metadata": {},
   "source": [
    "### Q5. Unlike a normal regex pattern, a look-ahead condition does not consume the characters it examines. Describe a situation in which this could make a difference in the results of your programme.\n",
    "\n",
    "\n"
   ]
  },
  {
   "cell_type": "code",
   "execution_count": 4,
   "id": "28e32c12",
   "metadata": {},
   "outputs": [
    {
     "name": "stdout",
     "output_type": "stream",
     "text": [
      "\n",
      "b\n"
     ]
    }
   ],
   "source": [
    "print(re.search('a??','aaa').group())\n",
    "# Here condition is not matching and not getting output according to our expectations so it makes the differnce in the abve results.\n",
    "print(re.search('a??b','aacb').group())"
   ]
  },
  {
   "cell_type": "code",
   "execution_count": null,
   "id": "24acf3d1",
   "metadata": {},
   "outputs": [],
   "source": []
  },
  {
   "cell_type": "code",
   "execution_count": null,
   "id": "4ce8abd8",
   "metadata": {},
   "outputs": [],
   "source": []
  },
  {
   "cell_type": "markdown",
   "id": "a8bcf666",
   "metadata": {},
   "source": [
    "### Q6. In standard expressions, what is the difference between positive look-ahead and negative look-ahead?\n",
    "\n"
   ]
  },
  {
   "cell_type": "markdown",
   "id": "e6de87f2",
   "metadata": {},
   "source": [
    " positive look ahead Positive lookahead assertion. This succeeds if the contained regular expression, represented here by ...,   successfully matches at the current location, and fails otherwise. But, once the contained expression has been tried,  the matching engine doesn’t advance at all;  the rest of the pattern is tried right where the assertion started."
   ]
  },
  {
   "cell_type": "code",
   "execution_count": null,
   "id": "a7e3be3e",
   "metadata": {},
   "outputs": [],
   "source": []
  },
  {
   "cell_type": "markdown",
   "id": "f1c8dc09",
   "metadata": {},
   "source": [
    "### Q7. What is the benefit of referring to groups by name rather than by number in a standard expression?\n",
    "\n"
   ]
  },
  {
   "cell_type": "code",
   "execution_count": 5,
   "id": "99ec4a58",
   "metadata": {},
   "outputs": [
    {
     "data": {
      "text/plain": [
       "'write'"
      ]
     },
     "execution_count": 5,
     "metadata": {},
     "output_type": "execute_result"
    }
   ],
   "source": [
    "# group by number\n",
    "p = re.compile(r'(?P<word>\\b\\w+\\b)')\n",
    "m = p.search( '((((?%^& write any punctuation mark here &%^$#@*&^%H)))' )\n",
    "m.group('word')\n",
    "m.group(1)\n"
   ]
  },
  {
   "cell_type": "code",
   "execution_count": 6,
   "id": "50acee3a",
   "metadata": {},
   "outputs": [
    {
     "data": {
      "text/plain": [
       "{'first': 'Rohan', 'last': 'Baggulwar'}"
      ]
     },
     "execution_count": 6,
     "metadata": {},
     "output_type": "execute_result"
    }
   ],
   "source": [
    "# Group by number\n",
    "m = re.match(r'(?P<first>\\w+) (?P<last>\\w+)', 'Rohan Baggulwar')\n",
    "m.groupdict()"
   ]
  },
  {
   "cell_type": "code",
   "execution_count": null,
   "id": "f418e39f",
   "metadata": {},
   "outputs": [],
   "source": []
  },
  {
   "cell_type": "markdown",
   "id": "ca9a6bdd",
   "metadata": {},
   "source": [
    "### Q8. Can you identify repeated items within a target string using named groups, as in \"The cow jumped over the moon\"?"
   ]
  },
  {
   "cell_type": "code",
   "execution_count": 7,
   "id": "bbdf91fb",
   "metadata": {},
   "outputs": [
    {
     "data": {
      "text/plain": [
       "'oo'"
      ]
     },
     "execution_count": 7,
     "metadata": {},
     "output_type": "execute_result"
    }
   ],
   "source": [
    "re.search(r'(.+?)\\1+', \"the cow jumped over the moon\").group()"
   ]
  },
  {
   "cell_type": "code",
   "execution_count": null,
   "id": "56c130f9",
   "metadata": {},
   "outputs": [],
   "source": []
  },
  {
   "cell_type": "markdown",
   "id": "cec4443c",
   "metadata": {},
   "source": [
    "### Q9. When parsing a string, what is at least one thing that the Scanner interface does for you that the re.findall feature does not?"
   ]
  },
  {
   "cell_type": "code",
   "execution_count": null,
   "id": "19316634",
   "metadata": {},
   "outputs": [],
   "source": [
    "<!-- [(<TokenType.integer: 1>, 1024),\n",
    "  (<TokenType.float: 2>, 3.14),\n",
    "  (<TokenType.string: 4>, 'hello world!'),\n",
    "  (<TokenType.control: 5>, '{'),\n",
    "  (<TokenType.bool: 3>, True),\n",
    "  (<TokenType.string: 4>, 'foobar2000'),\n",
    "  (<TokenType.control: 5>, '}')] -->\n",
    "\n",
    "\n",
    "scanner fetches input in these manner with datatype list obj but findall doesn't."
   ]
  },
  {
   "cell_type": "code",
   "execution_count": null,
   "id": "0030a299",
   "metadata": {},
   "outputs": [],
   "source": []
  },
  {
   "cell_type": "markdown",
   "id": "4be173ff",
   "metadata": {},
   "source": [
    "### Q10. Does a scanner object have to be named scanner?"
   ]
  },
  {
   "cell_type": "code",
   "execution_count": null,
   "id": "9d46d858",
   "metadata": {},
   "outputs": [],
   "source": [
    "scanner=re.Scanner()\n",
    "scanner.scan()"
   ]
  },
  {
   "cell_type": "markdown",
   "id": "4935d851",
   "metadata": {},
   "source": [
    "Scanner is a class in java. util package used for obtaining the input of the primitive types like int, double, etc. and strings. ... To create an object of Scanner class, we usually pass the predefined object System.in, which represents the standard input stream."
   ]
  },
  {
   "cell_type": "code",
   "execution_count": null,
   "id": "c999aed0",
   "metadata": {},
   "outputs": [],
   "source": []
  }
 ],
 "metadata": {
  "kernelspec": {
   "display_name": "Python 3",
   "language": "python",
   "name": "python3"
  },
  "language_info": {
   "codemirror_mode": {
    "name": "ipython",
    "version": 3
   },
   "file_extension": ".py",
   "mimetype": "text/x-python",
   "name": "python",
   "nbconvert_exporter": "python",
   "pygments_lexer": "ipython3",
   "version": "3.8.8"
  }
 },
 "nbformat": 4,
 "nbformat_minor": 5
}
