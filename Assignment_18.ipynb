{
 "cells": [
  {
   "cell_type": "markdown",
   "id": "d8770524",
   "metadata": {},
   "source": [
    "### Q1. Describe the differences between text and binary files in a single paragraph.\n",
    "\n"
   ]
  },
  {
   "cell_type": "markdown",
   "id": "5ee06e44",
   "metadata": {},
   "source": [
    "All files can be categorized into one of two file formats — binary or text. The two file types may look the same on the surface, but they encode data differently. While both binary and text files contain data stored as a series of bits (binary values of 1s and 0s), the bits in text files represent characters, while the bits in binary files represent custom data.\n",
    "* Binary Files\n",
    "Binary files typically contain a sequence of bytes, or ordered groupings of eight bits. When creating a custom file format for a program, a developer arranges these bytes into a format that stores the necessary information for the application. Binary file formats may include multiple types of data in the same file, such as image, video, and audio data. This data can be interpreted by supporting programs, but will show up as garbled text in a text editor. Below is an example of a .PNG image file opened in an image viewer and a text editor.\n",
    "As you can see, the image viewer recognizes the binary data and displays the picture. When the image is opened in a text editor, the binary data is converted to unrecognizable text. However, you may notice that some of the text is readable. This is because the PNG format includes small sections for storing textual data. The text editor, while not designed to read this file format, still displays this text when the file is opened. Many other binary file types include sections of readable text as well. Therefore, it may be possible to find out some information about an unknown binary file type by opening it in a text editor.\n",
    "\n",
    "Binary files often contain headers, which are bytes of data at the beginning of a file that identifies the file's contents. Headers often include the file type and other descriptive information. For example, in the image above, the \"PNG\" text indicates the file is a PNG image. If a file has invalid header information, software programs may not open the file or they may report that the file is corrupted.\n",
    "\n",
    "* Text Files\n",
    "Text files are more restrictive than binary files since they can only contain textual data. However, unlike binary files, they are less likely to become corrupted. While a small error in a binary file may make it unreadable, a small error in a text file may simply show up once the file has been opened. This is one of reasons Microsoft switched to a compressed text-based XML format for the Office 2007 file types.\n",
    "\n",
    "Text files may be saved in either a plain text (.TXT) format and rich text (.RTF) format. A typical plain text file contains several lines of text that are each followed by an End-of-Line (EOL) character. An End-of-File (EOF) marker is placed after the final character, which signals the end of the file. Rich text files use a similar file structure, but may also include text styles, such as bold and italics, as well as page formatting information. Both plain text and rich text files include a (character encoding| characterencoding) scheme that determines how the characters are interpreted and what characters can be displayed.\n",
    "\n",
    "Since text files use a simple, standard format, many programs are capable of reading and editing text files. Common text editors include Microsoft Notepad and WordPad, which are bundled with Windows, and Apple TextEdit, which is included with Mac OS X.\n",
    "\n",
    "While both binary and text files contain data stored as a series of bits (binary values of 1s and 0s), the bits in text files represent characters, while the bits in binary files represent custom data. While text files contain only textual data, binary files may contain both textual and custom binary data."
   ]
  },
  {
   "cell_type": "code",
   "execution_count": null,
   "id": "4991d980",
   "metadata": {},
   "outputs": [],
   "source": []
  },
  {
   "cell_type": "markdown",
   "id": "c1c00c01",
   "metadata": {},
   "source": [
    "### Q2. What are some scenarios where using text files will be the better option? When would you like to use binary files instead of text files?"
   ]
  },
  {
   "cell_type": "markdown",
   "id": "ecff727e",
   "metadata": {},
   "source": [
    "Text files are commonly used for storage of information. They avoid some of the problems encountered with other file formats, such as endianness, padding bytes, or differences in the number of bytes in a machine word. All data values in a plain text file are stored as a series of characters. Even numbers are stored as characters. Each character is stored in computer memory as one or two bytes.\n",
    "\n",
    "Text files contain textual data and may be saved in plain text or rich text formats. While most text files are documents created and saved by users, they can also be used by software developers to store program data. Examples of text files include word processing documents, log files, and saved email messages.\n",
    "\n",
    "Common text file extensions include .TXT, .RTF, .LOG, and .DOCX.\n",
    "\n",
    "\n",
    "Binary files are used to store data more compactly. In the text file, a special character whose ASCII value is 26 inserted after the last character to mark the end of file. In the binary file no such character is present. Files keep track of the end of the file from the number of characters present.\n",
    "\n",
    "Binary file contains the data in the form of 0 and 1(series of binary values) and text files contains the data in the form of stream of characters.In general binary files are identified as executable files. But binary files are not in readable form as like text file.\n",
    "\n",
    "A binary file is usually very much smaller than a text file that contains an equivalent amount of data. For image, video, and audio data this is important. Small files save storage space, can be transmitted faster, and are processed faster. I/O with smaller files is faster, too, since there are fewer bytes to move."
   ]
  },
  {
   "cell_type": "code",
   "execution_count": null,
   "id": "f5c542d6",
   "metadata": {},
   "outputs": [],
   "source": []
  },
  {
   "cell_type": "code",
   "execution_count": null,
   "id": "f1aa7a1b",
   "metadata": {},
   "outputs": [],
   "source": []
  },
  {
   "cell_type": "markdown",
   "id": "558f5508",
   "metadata": {},
   "source": [
    "### Q3. What are some of the issues with using binary operations to read and write a Python integer directly to disc?\n",
    "\n",
    "\n"
   ]
  },
  {
   "cell_type": "markdown",
   "id": "45ad72b9",
   "metadata": {},
   "source": [
    "It can directly write a python integer to binary as it s so these issues comes with the integer so we can convert these by bin() function can solve these"
   ]
  },
  {
   "cell_type": "code",
   "execution_count": null,
   "id": "0cce749c",
   "metadata": {},
   "outputs": [],
   "source": []
  },
  {
   "cell_type": "code",
   "execution_count": null,
   "id": "3033f371",
   "metadata": {},
   "outputs": [],
   "source": []
  },
  {
   "cell_type": "markdown",
   "id": "c9ee0a15",
   "metadata": {},
   "source": [
    "### Q4. Describe a benefit of using the with keyword instead of explicitly opening a file.\n",
    "\n"
   ]
  },
  {
   "cell_type": "markdown",
   "id": "ee0e9a0e",
   "metadata": {},
   "source": [
    "with statement in Python is used in exception handling to make the code cleaner and much more readable. It simplifies the management of common resources like file streams.\n",
    "\n",
    "Using with means that the file will be closed as soon as you leave the block. This is beneficial because closing a file is something that can easily be forgotten and ties up resources that you no longer need.\n",
    "\n",
    "with statement in Python is used in exception handling to make the code cleaner and much more readable. It simplifies the management of common resources like file streams. Observe the following code example on how the use of with statement makes code cleaner."
   ]
  },
  {
   "cell_type": "code",
   "execution_count": null,
   "id": "996fac7e",
   "metadata": {},
   "outputs": [],
   "source": [
    "with open(__file__,'w') as f:\n",
    "    f.write('anything to write')"
   ]
  },
  {
   "cell_type": "markdown",
   "id": "444b4cb4",
   "metadata": {},
   "source": [
    "No need to explicitly close the opened file, “with statement” takes care of that. When with the block ends, it will automatically close the file"
   ]
  },
  {
   "cell_type": "code",
   "execution_count": null,
   "id": "25b0e31c",
   "metadata": {},
   "outputs": [],
   "source": []
  },
  {
   "cell_type": "markdown",
   "id": "5ced794e",
   "metadata": {},
   "source": [
    "### Q5. Does Python have the trailing newline while reading a line of text? Does Python append a newline when you write a line of text?\n",
    "\n",
    "\n"
   ]
  },
  {
   "cell_type": "markdown",
   "id": "3289f528",
   "metadata": {},
   "source": [
    "yes.it has a new line by deafult to read it will utomatically detects '\\n' and jump to new line. yes,It will append in new but for that we have to open file in aappend mode."
   ]
  },
  {
   "cell_type": "code",
   "execution_count": null,
   "id": "fa688077",
   "metadata": {},
   "outputs": [],
   "source": []
  },
  {
   "cell_type": "code",
   "execution_count": null,
   "id": "4ce8abd8",
   "metadata": {},
   "outputs": [],
   "source": []
  },
  {
   "cell_type": "markdown",
   "id": "a8bcf666",
   "metadata": {},
   "source": [
    "### Q6. What file operations enable for random-access operation?\n",
    "\n",
    "\n"
   ]
  },
  {
   "cell_type": "markdown",
   "id": "bebb994c",
   "metadata": {},
   "source": [
    "we have to r,r+,a,a+,w,w+ file operatins by default it has in write operationfor file access randomly.\n",
    "\n",
    "r\t-Opens a file for reading. (default)\n",
    "\n",
    "w\t-Opens a file for writing. Creates a new file if it does not exist or truncates the file if it exists.\n",
    "\n",
    "x\t-Opens a file for exclusive creation. If the file already exists, the operation fails.\n",
    "\n",
    "a\t-Opens a file for appending at the end of the file without truncating it. Creates a new file if it does not exist.\n",
    "\n",
    "t\t-Opens in text mode. (default)\n",
    "\n",
    "b\t-Opens in binary mode.\n",
    "\n",
    "+(plus)\t-Opens a file for updating (reading and writing)"
   ]
  },
  {
   "cell_type": "code",
   "execution_count": null,
   "id": "d49f2638",
   "metadata": {},
   "outputs": [],
   "source": []
  },
  {
   "cell_type": "markdown",
   "id": "f1c8dc09",
   "metadata": {},
   "source": [
    "### Q7. When do you think you'll use the struct package the most?\n",
    "\n",
    "\n"
   ]
  },
  {
   "cell_type": "markdown",
   "id": "90e845f3",
   "metadata": {},
   "source": [
    "The struct module in Python is used to convert native Python data types such as strings and numbers into a string of bytes and vice versa. What this means is that users can parse binary files of data stored in C structs in Python.\n",
    "\n",
    "It is used mostly for handling binary data stored in files or from network connections, among other sources.\n",
    "\n",
    "The module is only available in Python 3.x and needs to be imported first by writing\n",
    "\n",
    "import struct\n",
    "\n",
    "This process needs to be done at the start of the program.\n",
    "\n",
    "struct.pack()\n",
    "struct.pack() is the function that converts a given list of values into their corresponding string representation. It requires the user to specify the format and order of the values that need to be converted."
   ]
  },
  {
   "cell_type": "code",
   "execution_count": null,
   "id": "50acee3a",
   "metadata": {},
   "outputs": [],
   "source": []
  },
  {
   "cell_type": "code",
   "execution_count": null,
   "id": "f418e39f",
   "metadata": {},
   "outputs": [],
   "source": []
  },
  {
   "cell_type": "markdown",
   "id": "ca9a6bdd",
   "metadata": {},
   "source": [
    "### Q8. When is pickling the best option?\n",
    "\n",
    "\n"
   ]
  },
  {
   "cell_type": "code",
   "execution_count": null,
   "id": "bbdf91fb",
   "metadata": {},
   "outputs": [],
   "source": []
  },
  {
   "cell_type": "markdown",
   "id": "cec4443c",
   "metadata": {},
   "source": [
    "### Q9. When will it be best to use the shelve package?\n",
    "\n"
   ]
  },
  {
   "cell_type": "markdown",
   "id": "123145c7",
   "metadata": {},
   "source": [
    "Pickle in Python is primarily used in serializing and deserializing a Python object structure. In other words, it's the process of converting a Python object into a byte stream to store it in a file/database, maintain program state across sessions, or transport data over the network.\n",
    "\n",
    "The Python pickle module is a better choice for all the remaining use cases. If you don't need a human-readable format or a standard interoperable format, or if you need to serialize custom objects, then go with pickle .\n",
    "\n",
    "The advantage of using pickle is that it can serialize pretty much any Python object, without having to add any extra code. Its also smart in that in will only write out any single object once, making it effective to store recursive structures like graphs.\n",
    "\n",
    "JSON is a lightweight format and is much faster than Pickling. There is always a security risk with Pickle. Unpickling data from unknown sources should be avoided as it may contain malicious or erroneous data. There are no loopholes in security using JSON, and it is free from security threats.\n",
    "\n",
    "Pickle is used for serializing and de-serializing Python object structures, also called marshalling or flattening. Serialization refers to the process of converting an object in memory to a byte stream that can be stored on disk or sent over a network."
   ]
  },
  {
   "cell_type": "code",
   "execution_count": null,
   "id": "d00deb4b",
   "metadata": {},
   "outputs": [],
   "source": []
  },
  {
   "cell_type": "code",
   "execution_count": null,
   "id": "a1b2d2e0",
   "metadata": {},
   "outputs": [],
   "source": []
  },
  {
   "cell_type": "markdown",
   "id": "4be173ff",
   "metadata": {},
   "source": [
    "### Q10. What is a special restriction when using the shelve package, as opposed to using other data dictionaries?"
   ]
  },
  {
   "cell_type": "code",
   "execution_count": 1,
   "id": "d3de6824",
   "metadata": {},
   "outputs": [],
   "source": [
    "import shelve\n",
    "  \n",
    "\n",
    "shfile = shelve.open(\"shelf_file\")\n",
    "  \n",
    "\n",
    "my_book_list =['bared_to_you', 'The_fault_in_our_stars',\n",
    "              'The_boy_who_never_let_her_go','i will be']\n",
    "shfile['book_list']= my_book_list\n",
    "  \n",
    "shfile.close()"
   ]
  },
  {
   "cell_type": "markdown",
   "id": "96a964c5",
   "metadata": {},
   "source": [
    "Theses shelf_file.dir not stored our data in the dictionary format at the file we can't see our data until we can load through it with the help f moduodule.so it will be stord in a secret form."
   ]
  },
  {
   "cell_type": "code",
   "execution_count": 2,
   "id": "9d46d858",
   "metadata": {},
   "outputs": [
    {
     "data": {
      "text/plain": [
       "71"
      ]
     },
     "execution_count": 2,
     "metadata": {},
     "output_type": "execute_result"
    }
   ],
   "source": [
    "count=0\n",
    "for i in my_book_list:\n",
    "    for j in i:\n",
    "        count+=1\n",
    "count"
   ]
  },
  {
   "cell_type": "code",
   "execution_count": 3,
   "id": "615f7083",
   "metadata": {},
   "outputs": [
    {
     "name": "stdout",
     "output_type": "stream",
     "text": [
      "['bared_to_you', 'The_fault_in_our_stars', 'The_boy_who_never_let_her_go', 'i will be']\n"
     ]
    }
   ],
   "source": [
    "import shelve\n",
    "var = shelve.open(\"shelf_file\")\n",
    "print(var['book_list'])\n",
    "var.close()"
   ]
  },
  {
   "cell_type": "markdown",
   "id": "c3ef5f7d",
   "metadata": {},
   "source": [
    "Benifits/\n",
    "First, you do not have the limitations of the amount of RAM available.\n",
    "\n",
    "Second, you have the convenience of access with a key like you do in a dictionary.\n",
    "\n",
    "And third, you can read or write pieces of data in large files, without reading or writing the entire file."
   ]
  },
  {
   "cell_type": "code",
   "execution_count": null,
   "id": "5d04580c",
   "metadata": {},
   "outputs": [],
   "source": []
  }
 ],
 "metadata": {
  "kernelspec": {
   "display_name": "Python 3",
   "language": "python",
   "name": "python3"
  },
  "language_info": {
   "codemirror_mode": {
    "name": "ipython",
    "version": 3
   },
   "file_extension": ".py",
   "mimetype": "text/x-python",
   "name": "python",
   "nbconvert_exporter": "python",
   "pygments_lexer": "ipython3",
   "version": "3.8.8"
  }
 },
 "nbformat": 4,
 "nbformat_minor": 5
}
