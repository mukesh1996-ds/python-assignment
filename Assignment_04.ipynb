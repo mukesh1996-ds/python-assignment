{
 "cells": [
  {
   "cell_type": "markdown",
   "id": "d8770524",
   "metadata": {},
   "source": [
    "### Q1. Which two operator overloading methods can you use in your classes to support iteration?"
   ]
  },
  {
   "cell_type": "markdown",
   "id": "4ca0e6a2",
   "metadata": {},
   "source": [
    "Iterator in python is an object that is used to iterate over iterable objects like lists, tuples, dicts, and sets. The iterator object is initialized using the iter() method. It uses the next() method for iteration.\n",
    " \n",
    "\n",
    "__iter(iterable)__ method that is called for the initialization of an iterator. This returns an iterator object\n",
    "\n",
    "next ( __next__ in Python 3) The next method returns the next value for the iterable. When we use a for loop to traverse any iterable object, internally it uses the iter() method to get an iterator object which further uses next() method to iterate over. This method raises a StopIteration to signal the end of the iteration.\n",
    "\n",
    "How an iterator really works in python"
   ]
  },
  {
   "cell_type": "code",
   "execution_count": 2,
   "id": "7e0809eb",
   "metadata": {},
   "outputs": [
    {
     "name": "stdout",
     "output_type": "stream",
     "text": [
      "G\n",
      "e\n",
      "e\n",
      "k\n",
      "s\n"
     ]
    }
   ],
   "source": [
    "# Here is an example of a python inbuilt iterator\n",
    "# value can be anything which can be iterate\n",
    "iterable_value = 'Geeks'\n",
    "iterable_obj = iter(iterable_value)\n",
    "\n",
    "while True:\n",
    "\ttry:\n",
    "\n",
    "\t\t# Iterate by calling next\n",
    "\t\titem = next(iterable_obj)\n",
    "\t\tprint(item)\n",
    "\texcept StopIteration:\n",
    "\n",
    "\t\t# exception will happen when iteration will over\n",
    "\t\tbreak\n"
   ]
  },
  {
   "cell_type": "markdown",
   "id": "3f4aa4ff",
   "metadata": {},
   "source": [
    "Below is a simple Python custom iterator that creates iterator type that iterates from 10 to a given limit. For example, if the limit is 15, then it prints 10 11 12 13 14 15. And if the limit is 5, then it prints nothing"
   ]
  },
  {
   "cell_type": "code",
   "execution_count": 3,
   "id": "dede4c25",
   "metadata": {},
   "outputs": [
    {
     "name": "stdout",
     "output_type": "stream",
     "text": [
      "10\n",
      "11\n",
      "12\n",
      "13\n",
      "14\n",
      "15\n"
     ]
    }
   ],
   "source": [
    "# A simple Python program to demonstrate\n",
    "# working of iterators using an example type\n",
    "# that iterates from 10 to given value\n",
    "\n",
    "# An iterable user defined type\n",
    "class Test:\n",
    "\n",
    "\t# Constructor\n",
    "\tdef __init__(self, limit):\n",
    "\t\tself.limit = limit\n",
    "\n",
    "\t# Creates iterator object\n",
    "\t# Called when iteration is initialized\n",
    "\tdef __iter__(self):\n",
    "\t\tself.x = 10\n",
    "\t\treturn self\n",
    "\n",
    "\t# To move to next element. In Python 3,\n",
    "\t# we should replace next with __next__\n",
    "\tdef __next__(self):\n",
    "\n",
    "\t\t# Store current value ofx\n",
    "\t\tx = self.x\n",
    "\n",
    "\t\t# Stop iteration if limit is reached\n",
    "\t\tif x > self.limit:\n",
    "\t\t\traise StopIteration\n",
    "\n",
    "\t\t# Else increment and return old value\n",
    "\t\tself.x = x + 1;\n",
    "\t\treturn x\n",
    "\n",
    "# Prints numbers from 10 to 15\n",
    "for i in Test(15):\n",
    "\tprint(i)\n",
    "\n",
    "# Prints nothing\n",
    "for i in Test(5):\n",
    "\tprint(i)\n"
   ]
  },
  {
   "cell_type": "code",
   "execution_count": null,
   "id": "4802d188",
   "metadata": {},
   "outputs": [],
   "source": []
  },
  {
   "cell_type": "markdown",
   "id": "c1c00c01",
   "metadata": {},
   "source": [
    "### Q2. In what contexts do the two operator overloading methods manage printing?\n"
   ]
  },
  {
   "attachments": {
    "image-2.png": {
     "image/png": "[encoded data removed]"
    },
    "image.png": {
     "image/png": "[encoded data removed]"
    }
   },
   "cell_type": "markdown",
   "id": "f8cde152",
   "metadata": {},
   "source": [
    "You’ll find various python operators and their magic methods in the table below.\n",
    "![image.png](attachment:image.png)\n",
    "![image-2.png](attachment:image-2.png)"
   ]
  },
  {
   "cell_type": "code",
   "execution_count": null,
   "id": "ca5aa135",
   "metadata": {},
   "outputs": [],
   "source": []
  },
  {
   "cell_type": "code",
   "execution_count": null,
   "id": "1e4fcdab",
   "metadata": {},
   "outputs": [],
   "source": []
  },
  {
   "cell_type": "markdown",
   "id": "558f5508",
   "metadata": {},
   "source": [
    "### Q3. In a class, how do you intercept slice operations?\n"
   ]
  },
  {
   "cell_type": "code",
   "execution_count": null,
   "id": "7a3150a7",
   "metadata": {},
   "outputs": [],
   "source": [
    "class InterceptedList(list):\n",
    "    def addSave(func):\n",
    "        def newfunc(self, *args):\n",
    "            func(self, *args)\n",
    "            print ('saving')\n",
    "        return newfunc\n",
    "\n",
    "__setslice__ = addSave(list.__setslice__)\n",
    "__delslice__ = addSave(list.__delslice__)\n",
    "    \n",
    "    \n",
    "l = InterceptedList()\n",
    "l.extend([1,2,3,4])\n",
    "\n",
    "\n",
    "l[3:] = [5] # note: 'saving' is not printed"
   ]
  },
  {
   "cell_type": "code",
   "execution_count": null,
   "id": "463c1efe",
   "metadata": {},
   "outputs": [],
   "source": []
  },
  {
   "cell_type": "markdown",
   "id": "1faaa0a4",
   "metadata": {},
   "source": [
    "Python slice() function returns a slice object. \n",
    "\n",
    "A sequence of objects of any type(string, bytes, tuple, list or range) or the object which implements __getitem__() and __len__() method then this object can be sliced using slice() method.\n",
    "\n",
    "Syntax: \n",
    "\n",
    "* slice(stop)\n",
    "* slice(start, stop, step)\n",
    "\n",
    "Parameters: \n",
    "* start: Starting index where the slicing of object starts.\n",
    "* stop: Ending index where the slicing of object stops.\n",
    "* step: It is an optional argument that determines the increment between each index for slicing.\n",
    "Return Type: Returns a sliced object containing elements in the given range only. \n",
    "\n",
    "\n",
    "Note: If only one parameter is passed then start and step is considered to be None. "
   ]
  },
  {
   "cell_type": "code",
   "execution_count": 11,
   "id": "726c65f1",
   "metadata": {},
   "outputs": [
    {
     "name": "stdout",
     "output_type": "stream",
     "text": [
      "String slicing\n",
      "iNe\n",
      "Nu\n"
     ]
    }
   ],
   "source": [
    "#Example 1: Python slice string\n",
    "# Python program to demonstrate\n",
    "# slice() operator\n",
    "\n",
    "# String slicing\n",
    "String = 'iNeuron.ai'\n",
    "s1 = slice(3)\n",
    "s2 = slice(1, 5, 2)\n",
    "\n",
    "print(\"String slicing\")\n",
    "print(String[s1])\n",
    "print(String[s2])\n"
   ]
  },
  {
   "cell_type": "markdown",
   "id": "c9ee0a15",
   "metadata": {},
   "source": [
    "### Q4. In a class, how do you capture in-place addition?\n",
    "\n"
   ]
  },
  {
   "cell_type": "markdown",
   "id": "244af67a",
   "metadata": {},
   "source": [
    "Python in its definition provides methods to perform inplace operations, i.e doing assignment and computation in a single statement using “operator” module. For example,\n",
    "\n",
    "x += y is equivalent to x = operator.iadd(x, y) "
   ]
  },
  {
   "cell_type": "markdown",
   "id": "2953ebe0",
   "metadata": {},
   "source": [
    "Some Important Inplace operations :\n",
    "    \n",
    "1. iadd() :- This function is used to assign and add the current value. This operation does “a+=b” operation. Assigning is not performed in case of immutable containers, such as strings, numbers and tuples.\n",
    "\n",
    "2. iconcat() :- This function is used to concat one string at end of second.\n",
    "\n",
    "3. isub() :- This function is used to assign and subtract the current value. This operation does “a-=b” operation. Assigning is not performed in case of immutable containers, such as strings, numbers and tuples.\n",
    "\n",
    "4. imul() :- This function is used to assign and multiply the current value. This operation does “a*=b” operation. Assigning is not performed in case of immutable containers, such as strings, numbers and tuples.\n",
    "\n",
    "5. itruediv() :- This function is used to assign and divide the current value. This operation does “a/=b” operation. Assigning is not performed in case of immutable containers, such as strings, numbers and tuples.\n",
    "\n",
    "6. imod() :- This function is used to assign and return remainder . This operation does “a%=b” operation. Assigning is not performed in case of immutable containers, such as strings, numbers and tuples."
   ]
  },
  {
   "cell_type": "code",
   "execution_count": null,
   "id": "ccdf2d8c",
   "metadata": {},
   "outputs": [],
   "source": []
  },
  {
   "cell_type": "markdown",
   "id": "5ced794e",
   "metadata": {},
   "source": [
    "### Q5. When is it appropriate to use operator overloading?"
   ]
  },
  {
   "cell_type": "markdown",
   "id": "c56130bf",
   "metadata": {},
   "source": [
    "Operator overloading is mostly useful when you're making a new class that falls into an existing \"Abstract Base Class\" (ABC) -- indeed, many of the ABCs in standard library module collections rely on the presence of certain special methods (and special methods, one with names starting and ending with double underscores AKA \"dunders\", are exactly the way you perform operator overloading in Python). This provides good starting guidance.\n",
    "\n",
    "For example, a Container class must override special method __contains__, i.e., the membership check operator item in container (as in, if item in container: -- don't confuse with the for statement, for item in container:, which relies on __iter__!-). Similarly, a Hashable must override __hash__, a Sized must override __len__, a Sequence or a Mapping must override __getitem__, and so forth. (Moreover, the ABCs can provide your class with mixin functionality -- e.g., both Sequence and Mapping can provide __contains__ on the basis of your supplied __getitem__ override, and thereby automatically make your class a Container)."
   ]
  },
  {
   "cell_type": "code",
   "execution_count": null,
   "id": "f33d751f",
   "metadata": {},
   "outputs": [],
   "source": []
  }
 ],
 "metadata": {
  "kernelspec": {
   "display_name": "Python 3",
   "language": "python",
   "name": "python3"
  },
  "language_info": {
   "codemirror_mode": {
    "name": "ipython",
    "version": 3
   },
   "file_extension": ".py",
   "mimetype": "text/x-python",
   "name": "python",
   "nbconvert_exporter": "python",
   "pygments_lexer": "ipython3",
   "version": "3.8.8"
  }
 },
 "nbformat": 4,
 "nbformat_minor": 5
}
