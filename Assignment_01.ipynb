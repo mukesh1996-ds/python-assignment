{
 "cells": [
  {
   "cell_type": "markdown",
   "id": "d8770524",
   "metadata": {},
   "source": [
    "### Q1. What is the purpose of Python's OOP?"
   ]
  },
  {
   "cell_type": "markdown",
   "id": "d2134129",
   "metadata": {},
   "source": [
    "Moving to the advantages of OOP, we would like to say that there are many as this is one of the core development approaches which is widely accepted. Let’s see what the advantages of OOP are offers to its users.\n",
    "\n",
    "1. Re-usability\n",
    "It means reusing some facilities rather than building them again and again. This is done with the use of a class. We can use it ‘n’ number of times as per our need.\n",
    "\n",
    "2. Data Redundancy\n",
    "This is a condition created at the place of data storage (you can say Databases)where the same piece of data is held in two separate places. So the data redundancy is one of the greatest advantages of OOP. If a user wants a similar functionality in multiple classes, he/she can go ahead by writing common class definitions for similar functionalities and inherit them.\n",
    "\n",
    "3. Code Maintenance\n",
    "This feature is more of a necessity for any programming languages; it helps users from doing re-work in many ways. It is always easy and time-saving to maintain and modify the existing codes by incorporating new changes into them.\n",
    "\n",
    "4. Security\n",
    "With the use of data hiding and abstraction mechanism, we are filtering out limited data to exposure, which means we are maintaining security and providing necessary data to view.\n",
    "\n",
    "5. Design Benefits\n",
    "If you are practicing on OOPs, the design benefit a user will get is in terms of designing and fixing things easily and eliminating the risks (if any). Here the Object-Oriented Programs forces the designers to have a long and extensive design phase, which results in better designs and fewer flaws. After a time when the program has reached some critical limits, it is easier to program all the non-OOP’s one separately.\n",
    "\n",
    "6. Better productivity\n",
    "with the above-mentioned facts of using the application definitely enhances its users overall productivity. This leads to more work done, finishing a better program, having more inbuilt features, and easier reading, writing and maintaining. An OOP programmer cans stitch new software objects to make completely new programs. A good number of libraries with useful functions in abundance make it possible.\n",
    "\n",
    "7. Easy troubleshooting\n",
    "lets witness some common issues or problems any developers face in their work.\n",
    "\n",
    "* Is this the problem in the widget file?\n",
    "* Is the problem is in the WhaleFlumper?\n",
    "* Will I have to trudge through that ‘sewage.c’ file?\n",
    "* Commenting on all these issues related to code.\n",
    "\n",
    "So, many times, something has gone wrong, which later becomes so brainstorming for the developers to look where the error is. Relax! Working with OOP language, you will know where to look for. This is the advantage of using encapsulation in OOP; all the objects are self-constrained. With this modality behavior, the IT teams get a lot of work benefits as they are now capable of working on multiple projects simultaneously with an advantage that there is no possibility of code duplicity.\n",
    "\n",
    "8. Polymorphism Flexibility\n",
    "Let’s see a scenario to better explain this behavior.\n",
    "\n",
    "You behave in a different way if the place or surrounding gets change. A person will behave like a customer if he is in a market, the same person will behave like a student if he is in a school and as a son/daughter if put in a house. Here we can see that the same person showing different behavior every time the surroundings are changed. This means polymorphism is flexible and helps developers in a number of ways.\n",
    "\n",
    "* It’s simplicity\n",
    "* Extensibility\n",
    "9. Problems solving\n",
    "Decomposing a complex problem into smaller chunks or discrete components is a good practice. OOP is specialized in this behavior, as it breaks down your software code into bite-sized – one object at a time. The broken components can be reused in solutions to different other problems (both less and more complex), or either they can be replaced by the future modules that relate to the same interface with implementations details.\n",
    "\n",
    "A general relatable real-time scenario – at a high level, a car can be decomposed into wheels, engine, and chassis soon. Each of those components can be further broken down into even smaller atomic components like screws and bolts. The engine’s design doesn’t need to know anything about the tires’ size to deliver a certain amount of power (as output) has little to do with each other."
   ]
  },
  {
   "cell_type": "code",
   "execution_count": null,
   "id": "cc41f66b",
   "metadata": {},
   "outputs": [],
   "source": []
  },
  {
   "cell_type": "markdown",
   "id": "c1c00c01",
   "metadata": {},
   "source": [
    "### Q2. Where does an inheritance search look for an attribute?"
   ]
  },
  {
   "cell_type": "markdown",
   "id": "81fe52ce",
   "metadata": {},
   "source": [
    "All of these objects are namespaces (packages of variables), and the inheritance search is simply a search of the tree from bottom to top looking for the lowest occurrence of an attribute name"
   ]
  },
  {
   "cell_type": "markdown",
   "id": "5a6612dc",
   "metadata": {},
   "source": [
    "when searching for attributes, Python looks in object g 1st. If I number each class named in the drawing below (2=2nd, 3=3rd, etc.) Could anyone show me the order in which all these classes are searched."
   ]
  },
  {
   "cell_type": "code",
   "execution_count": 4,
   "id": "7b2639bb",
   "metadata": {},
   "outputs": [],
   "source": [
    "class A : pass \n",
    "class B : pass \n",
    "class C(A,object): pass\n",
    "class D: pass\n",
    "class E(D,B): pass\n",
    "class F(B,C): pass\n",
    "class G(E,F): pass\n",
    "\n",
    "g = G()"
   ]
  },
  {
   "cell_type": "code",
   "execution_count": null,
   "id": "f6feca33",
   "metadata": {},
   "outputs": [],
   "source": []
  },
  {
   "cell_type": "markdown",
   "id": "558f5508",
   "metadata": {},
   "source": [
    "### Q3. How do you distinguish between a class object and an instance object?"
   ]
  },
  {
   "cell_type": "markdown",
   "id": "2784a08b",
   "metadata": {},
   "source": [
    "I have been trying to teach myself broader concepts of programming than procedural and basic OOP. I understand the concrete concepts of OOP (you make a class that has data (members) and functions (methods) and then instantiate that class at run time to actually do stuff, that kind of thing).\n",
    "\n",
    "I think I have a handle on what a class is (sort of a design blueprint for an instance to be created in its likeness at compile time). But if that's the case, what is an object? I also know that in prototype based languages, this can muck things up even more, but perhaps this is why there needs to be a clear distinction between object and instance in my mind.\n",
    "\n",
    "Beyond that, I struggle with the concepts of \"object\" and \"instance\". A lot of resources that I read (including answers at SO) say that they are largely the same and that the difference is in semantics. Other people say that there is a true conceptual difference between the two."
   ]
  },
  {
   "attachments": {
    "image.png": {
     "image/png": "[encoded data removed]"
    }
   },
   "cell_type": "markdown",
   "id": "97526463",
   "metadata": {},
   "source": [
    "![image.png](attachment:image.png)"
   ]
  },
  {
   "cell_type": "markdown",
   "id": "847fb347",
   "metadata": {},
   "source": [
    "This is a view from Structural Programming. There's no real significant difference that should consume too much of your time. There might be some fancy language that some people might take up a lot of spaces to write about, but at the end of the day, as far as a coder, developer, programmer, architect, is concerned, an instance of a class and an object mean the same thing and can often be used interchangeably. I have never met anyone in my career that would be picky and spend a half-hour trying to point out the differences because there's really none. Time can be better spent on other development efforts."
   ]
  },
  {
   "cell_type": "code",
   "execution_count": null,
   "id": "a0d360a9",
   "metadata": {},
   "outputs": [],
   "source": []
  },
  {
   "cell_type": "code",
   "execution_count": null,
   "id": "80ae84d8",
   "metadata": {},
   "outputs": [],
   "source": []
  },
  {
   "cell_type": "markdown",
   "id": "c9ee0a15",
   "metadata": {},
   "source": [
    "### Q4. What makes the first argument in a class’s method function special?"
   ]
  },
  {
   "cell_type": "markdown",
   "id": "7bb6e1a2",
   "metadata": {},
   "source": [
    "The first argument of every class method, including init, is always a reference to the current instance of the class. By convention, this argument is always named self. In the init method, self refers to the newly created object; in other class methods, it refers to the instance whose method was called. Note that it is not a keyword.\n",
    "\n",
    "The word 'self' is used to represent the instance of a class. By using the \"self\" keyword we access the attributes and methods of the class in python."
   ]
  },
  {
   "cell_type": "markdown",
   "id": "7b018d0b",
   "metadata": {},
   "source": [
    "self represents the instance of the class. By using the “self” keyword we can access the attributes and methods of the class in python. It binds the attributes with the given arguments.\n",
    "The reason you need to use self. is because Python does not use the @ syntax to refer to instance attributes. Python decided to do methods in a way that makes the instance to which the method belongs be passed automatically, but not received automatically: the first parameter of methods is the instance the method is called on."
   ]
  },
  {
   "cell_type": "code",
   "execution_count": 5,
   "id": "09e3e4f6",
   "metadata": {},
   "outputs": [
    {
     "name": "stdout",
     "output_type": "stream",
     "text": [
      "Address of self =  2554990128624\n",
      "Address of class object =  2554990128624\n"
     ]
    }
   ],
   "source": [
    "#it is clearly seen that self and obj is referring to the same object\n",
    "\n",
    "class check:\n",
    "\tdef __init__(self):\n",
    "\t\tprint(\"Address of self = \",id(self))\n",
    "\n",
    "obj = check()\n",
    "print(\"Address of class object = \",id(obj))\n",
    "\n",
    "# this code is Contributed by Samyak Jain\n"
   ]
  },
  {
   "cell_type": "code",
   "execution_count": 6,
   "id": "0166937a",
   "metadata": {},
   "outputs": [
    {
     "name": "stdout",
     "output_type": "stream",
     "text": [
      "Model is audi a4\n",
      "color is blue\n",
      "Model is ferrari 488\n",
      "color is green\n"
     ]
    }
   ],
   "source": [
    "# Write Python3 code here\n",
    "\n",
    "class car():\n",
    "\t\n",
    "\t# init method or constructor\n",
    "\tdef __init__(self, model, color):\n",
    "\t\tself.model = model\n",
    "\t\tself.color = color\n",
    "\t\t\n",
    "\tdef show(self):\n",
    "\t\tprint(\"Model is\", self.model )\n",
    "\t\tprint(\"color is\", self.color )\n",
    "\t\t\n",
    "# both objects have different self which\n",
    "# contain their attributes\n",
    "audi = car(\"audi a4\", \"blue\")\n",
    "ferrari = car(\"ferrari 488\", \"green\")\n",
    "\n",
    "audi.show()\t # same output as car.show(audi)\n",
    "ferrari.show() # same output as car.show(ferrari)\n",
    "\n",
    "# Behind the scene, in every instance method\n",
    "# call, python sends the instances also with\n",
    "# that method call like car.show(audi)\n"
   ]
  },
  {
   "cell_type": "markdown",
   "id": "6a9b99c0",
   "metadata": {},
   "source": [
    "elf is the first argument to be passed in Constructor and Instance Method."
   ]
  },
  {
   "cell_type": "code",
   "execution_count": null,
   "id": "c423c1f0",
   "metadata": {},
   "outputs": [],
   "source": []
  },
  {
   "cell_type": "code",
   "execution_count": null,
   "id": "be85a516",
   "metadata": {},
   "outputs": [],
   "source": []
  },
  {
   "cell_type": "markdown",
   "id": "3610e8b6",
   "metadata": {},
   "source": [
    "### Q5. What is the purpose of the __init__ method?"
   ]
  },
  {
   "cell_type": "markdown",
   "id": "630260df",
   "metadata": {},
   "source": [
    "\"__init__\" is a reseved method in python classes. It is called as a constructor in object oriented terminology. This method is called when an object is created from a class and it allows the class to initialize the attributes of the class.\n",
    "\n",
    "Example\n",
    "Find out the cost of a rectangular field with breadth(b=120), length(l=160). It costs x (2000) rupees per 1 square unit"
   ]
  },
  {
   "cell_type": "code",
   "execution_count": 8,
   "id": "8caa7fff",
   "metadata": {},
   "outputs": [
    {
     "name": "stdout",
     "output_type": "stream",
     "text": [
      "Area of Rectangle: 19200 sq units\n"
     ]
    }
   ],
   "source": [
    "class Rectangle:\n",
    "   def __init__(self, length, breadth, unit_cost=0):\n",
    "       self.length = length\n",
    "       self.breadth = breadth\n",
    "       self.unit_cost = unit_cost\n",
    "   def get_area(self):\n",
    "       return self.length * self.breadth\n",
    "   def calculate_cost(self):\n",
    "       area = self.get_area()\n",
    "       return area * self.unit_cost\n",
    "# breadth = 120 units, length = 160 units, 1 sq unit cost = Rs 2000\n",
    "r = Rectangle(160, 120, 2000)\n",
    "print(\"Area of Rectangle: %s sq units\" % (r.get_area()))"
   ]
  },
  {
   "cell_type": "code",
   "execution_count": null,
   "id": "8af816f0",
   "metadata": {},
   "outputs": [],
   "source": []
  },
  {
   "cell_type": "markdown",
   "id": "c540555b",
   "metadata": {},
   "source": [
    "Whenever object oriented programming is done in Python, we mostly come across __init__ method which we usually don’t fully understand. This article explains the main concept of __init__ but before understanding the __init__ some prerequisites are required.\n",
    "\n",
    "The __init__ method is similar to constructors in C++ and Java. Constructors are used to initialize the object’s state. The task of constructors is to initialize(assign values) to the data members of the class when an object of class is created. Like methods, a constructor also contains collection of statements(i.e. instructions) that are executed at time of Object creation. It is run as soon as an object of a class is instantiated. The method is useful to do any initialization you want to do with your object."
   ]
  },
  {
   "cell_type": "code",
   "execution_count": 7,
   "id": "a5ff7ace",
   "metadata": {},
   "outputs": [
    {
     "name": "stdout",
     "output_type": "stream",
     "text": [
      "Hello, my name is Nikhil\n"
     ]
    }
   ],
   "source": [
    "# A Sample class with init method\n",
    "class Person:\n",
    "\t\n",
    "\t# init method or constructor\n",
    "\tdef __init__(self, name):\n",
    "\t\tself.name = name\n",
    "\t\n",
    "\t# Sample Method\n",
    "\tdef say_hi(self):\n",
    "\t\tprint('Hello, my name is', self.name)\n",
    "\t\n",
    "p = Person('Nikhil')\n",
    "p.say_hi()\n"
   ]
  },
  {
   "cell_type": "code",
   "execution_count": null,
   "id": "9f519fcb",
   "metadata": {},
   "outputs": [],
   "source": []
  },
  {
   "cell_type": "code",
   "execution_count": null,
   "id": "5ccc03f1",
   "metadata": {},
   "outputs": [],
   "source": []
  },
  {
   "cell_type": "markdown",
   "id": "4f708a13",
   "metadata": {},
   "source": [
    "### Q6. What is the process for creating a class instance?"
   ]
  },
  {
   "cell_type": "markdown",
   "id": "a6edb6fd",
   "metadata": {},
   "source": [
    "When you create an object, you are creating an instance of a class, therefore \"instantiating\" a class. The new operator requires a single, postfix argument: a call to a constructor. The name of the constructor provides the name of the class to instantiate."
   ]
  },
  {
   "cell_type": "markdown",
   "id": "39544630",
   "metadata": {},
   "source": [
    "Instantiating a Class\n",
    "\n",
    "The new operator instantiates a class by allocating memory for a new object.\n",
    "Note: The phrase \"instantiating a class\" means the same thing as \"creating an object\"; you can think of the two as being synonymous. When you create an object, you are creating an instance of a class, therefore \"instantiating\" a class.\n",
    "The new operator requires a single, postfix argument: a call to a constructor. The name of the constructor provides the name of the class to instantiate. The constructor initializes the new object.\n",
    "\n",
    "The new operator returns a reference to the object it created. Often, this reference is assigned to a variable of the appropriate type. If the reference is not assigned to a variable, the object is unreachable after the statement in which the new operator appears finishes executing."
   ]
  },
  {
   "cell_type": "code",
   "execution_count": null,
   "id": "cd03120e",
   "metadata": {},
   "outputs": [],
   "source": []
  },
  {
   "cell_type": "code",
   "execution_count": null,
   "id": "3e11ad0f",
   "metadata": {},
   "outputs": [],
   "source": []
  },
  {
   "cell_type": "markdown",
   "id": "7257c2d6",
   "metadata": {},
   "source": [
    "### Q7. What is the process for creating a class?"
   ]
  },
  {
   "cell_type": "markdown",
   "id": "7a68bce8",
   "metadata": {},
   "source": [
    "Python is an object oriented programming language. Almost everything in Python is an object, with its properties and methods. A Class is like an object constructor, or a \"blueprint\" for creating objects."
   ]
  },
  {
   "cell_type": "markdown",
   "id": "78b17f53",
   "metadata": {},
   "source": [
    "1.Create a Class\n",
    "\n",
    "To create a class, use the keyword class:\n",
    "\n",
    "Example\n",
    "Create a class named MyClass, with a property named x:"
   ]
  },
  {
   "cell_type": "code",
   "execution_count": 10,
   "id": "d77be693",
   "metadata": {},
   "outputs": [],
   "source": [
    "class MyClass:\n",
    "  x = 5"
   ]
  },
  {
   "cell_type": "markdown",
   "id": "e5ffa346",
   "metadata": {},
   "source": [
    "2.Create Object\n",
    "\n",
    "Now we can use the class named MyClass to create objects:\n",
    "\n",
    "Example\n",
    "Create an object named p1, and print the value of x:"
   ]
  },
  {
   "cell_type": "code",
   "execution_count": 11,
   "id": "144b976f",
   "metadata": {},
   "outputs": [
    {
     "name": "stdout",
     "output_type": "stream",
     "text": [
      "5\n"
     ]
    }
   ],
   "source": [
    "p1 = MyClass()\n",
    "print(p1.x)"
   ]
  },
  {
   "cell_type": "markdown",
   "id": "637fa43e",
   "metadata": {},
   "source": [
    "3.The __init__() Function\n",
    "\n",
    "\n",
    "The examples above are classes and objects in their simplest form, and are not really useful in real life applications.\n",
    "\n",
    "To understand the meaning of classes we have to understand the built-in __init__() function.\n",
    "\n",
    "All classes have a function called __init__(), which is always executed when the class is being initiated.\n",
    "\n",
    "Use the __init__() function to assign values to object properties, or other operations that are necessary to do when the object is being created:\n",
    "\n",
    "Example\n",
    "Create a class named Person, use the __init__() function to assign values for name and age:"
   ]
  },
  {
   "cell_type": "code",
   "execution_count": 12,
   "id": "bb573ae2",
   "metadata": {},
   "outputs": [
    {
     "name": "stdout",
     "output_type": "stream",
     "text": [
      "John\n",
      "36\n"
     ]
    }
   ],
   "source": [
    "class Person:\n",
    "  def __init__(self, name, age):\n",
    "    self.name = name\n",
    "    self.age = age\n",
    "\n",
    "p1 = Person(\"John\", 36)\n",
    "\n",
    "print(p1.name)\n",
    "print(p1.age)"
   ]
  },
  {
   "cell_type": "markdown",
   "id": "24c81357",
   "metadata": {},
   "source": [
    "Note: The __init__() function is called automatically every time the class is being used to create a new object."
   ]
  },
  {
   "cell_type": "markdown",
   "id": "f54c60c1",
   "metadata": {},
   "source": [
    "4.Object Methods\n",
    "\n",
    "Objects can also contain methods. Methods in objects are functions that belong to the object.\n",
    "\n",
    "Let us create a method in the Person class:\n",
    "\n",
    "Example\n",
    "Insert a function that prints a greeting, and execute it on the p1 object:\n"
   ]
  },
  {
   "cell_type": "code",
   "execution_count": 13,
   "id": "c6483186",
   "metadata": {},
   "outputs": [
    {
     "name": "stdout",
     "output_type": "stream",
     "text": [
      "Hello my name is John\n"
     ]
    }
   ],
   "source": [
    "class Person:\n",
    "  def __init__(self, name, age):\n",
    "    self.name = name\n",
    "    self.age = age\n",
    "\n",
    "  def myfunc(self):\n",
    "    print(\"Hello my name is \" + self.name)\n",
    "\n",
    "p1 = Person(\"John\", 36)\n",
    "p1.myfunc()"
   ]
  },
  {
   "cell_type": "markdown",
   "id": "03df06cb",
   "metadata": {},
   "source": [
    "\n",
    "Note: The self parameter is a reference to the current instance of the class, and is used to access variables that belong to the class.\n"
   ]
  },
  {
   "cell_type": "markdown",
   "id": "ef917395",
   "metadata": {},
   "source": [
    "5. The self Parameter\n",
    "\n",
    "The self parameter is a reference to the current instance of the class, and is used to access variables that belongs to the class.\n",
    "\n",
    "It does not have to be named self , you can call it whatever you like, but it has to be the first parameter of any function in the class:\n",
    "\n",
    "Example\n",
    "Use the words mysillyobject and abc instead of self:"
   ]
  },
  {
   "cell_type": "code",
   "execution_count": 15,
   "id": "614266d9",
   "metadata": {},
   "outputs": [
    {
     "name": "stdout",
     "output_type": "stream",
     "text": [
      "Hello my name is John\n"
     ]
    }
   ],
   "source": [
    "\n",
    "class Person:\n",
    "  def __init__(mysillyobject, name, age):\n",
    "    mysillyobject.name = name\n",
    "    mysillyobject.age = age\n",
    "\n",
    "  def myfunc(abc):\n",
    "    print(\"Hello my name is \" + abc.name)\n",
    "\n",
    "p1 = Person(\"John\", 36)\n",
    "p1.myfunc()"
   ]
  },
  {
   "cell_type": "markdown",
   "id": "c4c3b511",
   "metadata": {},
   "source": [
    "6. Modify Object Properties\n",
    "\n",
    "You can modify properties on objects like this:\n",
    "\n",
    "Example\n",
    "Set the age of p1 to 40:\n",
    "\n"
   ]
  },
  {
   "cell_type": "code",
   "execution_count": 16,
   "id": "074ff1e6",
   "metadata": {},
   "outputs": [],
   "source": [
    "p1.age = 40"
   ]
  },
  {
   "cell_type": "markdown",
   "id": "78407200",
   "metadata": {},
   "source": [
    "7. Delete Object Properties\n",
    "\n",
    "You can delete properties on objects by using the del keyword:\n",
    "\n",
    "Example\n",
    "Delete the age property from the p1 object:\n",
    "\n"
   ]
  },
  {
   "cell_type": "code",
   "execution_count": 17,
   "id": "6d5ba552",
   "metadata": {},
   "outputs": [],
   "source": [
    "del p1.age"
   ]
  },
  {
   "cell_type": "markdown",
   "id": "a1f2d99b",
   "metadata": {},
   "source": [
    "8.Delete Objects\n",
    "\n",
    "You can delete objects by using the del keyword:\n",
    "\n",
    "Example\n",
    "Delete the p1 object:"
   ]
  },
  {
   "cell_type": "code",
   "execution_count": 18,
   "id": "1780998e",
   "metadata": {},
   "outputs": [],
   "source": [
    "del p1"
   ]
  },
  {
   "cell_type": "markdown",
   "id": "d277c137",
   "metadata": {},
   "source": [
    "\n",
    "9. The pass Statement\n",
    "\n",
    "class definitions cannot be empty, but if you for some reason have a class definition with no content, put in the pass statement to avoid getting an error.\n",
    "\n",
    "Example\n"
   ]
  },
  {
   "cell_type": "code",
   "execution_count": 19,
   "id": "aa27b896",
   "metadata": {},
   "outputs": [],
   "source": [
    "class Person:\n",
    "  pass"
   ]
  },
  {
   "cell_type": "code",
   "execution_count": null,
   "id": "5af8fa48",
   "metadata": {},
   "outputs": [],
   "source": []
  },
  {
   "cell_type": "markdown",
   "id": "e67d9df7",
   "metadata": {},
   "source": [
    "### Q8. How would you define the superclasses of a class?"
   ]
  },
  {
   "cell_type": "markdown",
   "id": "694dd808",
   "metadata": {},
   "source": [
    "Model contains all the features of the Entity Relationship model. In addition to all that, it also contains features of Subclasses, Superclasses and Inheritance."
   ]
  },
  {
   "attachments": {
    "image.png": {
     "image/png": "[encoded data removed]"
    }
   },
   "cell_type": "markdown",
   "id": "35821f70",
   "metadata": {},
   "source": [
    "All of these in detail are as follows −\n",
    "\n",
    "* Subclasses\n",
    "\n",
    "A subclass is a class derived from the superclass. It inherits the properties of the superclass and also contains attributes of its own. An example is:\n",
    "![image.png](attachment:image.png)\n",
    "Car, Truck and Motorcycle are all subclasses of the superclass Vehicle. They all inherit common attributes from vehicle such as speed, colour etc. while they have different attributes also i.e Number of wheels in Car is 4 while in Motorcycle is 2."
   ]
  },
  {
   "cell_type": "markdown",
   "id": "228b2db3",
   "metadata": {},
   "source": [
    "* Superclasses\n",
    "\n",
    "A superclass is the class from which many subclasses can be created. The subclasses inherit the characteristics of a superclass. The superclass is also known as the parent class or base class.\n",
    "\n",
    "In the above example, Vehicle is the Superclass and its subclasses are Car, Truck and Motorcycle.\n",
    "\n",
    "* Inheritance\n",
    "\n",
    "Inheritance is basically the process of basing a class on another class i.e to build a class on a existing  class. The new class contains all the features and functionalities of the old class in addition to its own.\n",
    "\n",
    "The class which is newly created is known as the subclass or child class and the original class is the parent class or the superclass."
   ]
  },
  {
   "cell_type": "code",
   "execution_count": null,
   "id": "9a42cbc3",
   "metadata": {},
   "outputs": [],
   "source": []
  },
  {
   "cell_type": "code",
   "execution_count": null,
   "id": "ccdf2d8c",
   "metadata": {},
   "outputs": [],
   "source": []
  }
 ],
 "metadata": {
  "kernelspec": {
   "display_name": "Python 3",
   "language": "python",
   "name": "python3"
  },
  "language_info": {
   "codemirror_mode": {
    "name": "ipython",
    "version": 3
   },
   "file_extension": ".py",
   "mimetype": "text/x-python",
   "name": "python",
   "nbconvert_exporter": "python",
   "pygments_lexer": "ipython3",
   "version": "3.8.8"
  }
 },
 "nbformat": 4,
 "nbformat_minor": 5
}
